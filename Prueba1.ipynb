{
 "cells": [
  {
   "cell_type": "code",
   "execution_count": null,
   "id": "d9a34457-9b5f-41fe-9ac8-66fde2dfbbb6",
   "metadata": {
    "tags": []
   },
   "outputs": [],
   "source": [
    "print('Holi')"
   ]
  },
  {
   "cell_type": "code",
   "execution_count": 2,
   "id": "dd0479e4-12c6-4c53-a95c-cdc25838df9a",
   "metadata": {
    "tags": []
   },
   "outputs": [
    {
     "name": "stdout",
     "output_type": "stream",
     "text": [
      "Defaulting to user installation because normal site-packages is not writeable\n",
      "Requirement already satisfied: apache_beam in c:\\users\\arturo clemente\\appdata\\roaming\\python\\python312\\site-packages (2.60.0)\n",
      "Requirement already satisfied: crcmod<2.0,>=1.7 in c:\\users\\arturo clemente\\appdata\\roaming\\python\\python312\\site-packages (from apache_beam) (1.7)\n",
      "Requirement already satisfied: orjson<4,>=3.9.7 in c:\\users\\arturo clemente\\appdata\\roaming\\python\\python312\\site-packages (from apache_beam) (3.10.11)\n",
      "Requirement already satisfied: dill<0.3.2,>=0.3.1.1 in c:\\users\\arturo clemente\\appdata\\roaming\\python\\python312\\site-packages (from apache_beam) (0.3.1.1)\n",
      "Requirement already satisfied: cloudpickle~=2.2.1 in c:\\users\\arturo clemente\\appdata\\roaming\\python\\python312\\site-packages (from apache_beam) (2.2.1)\n",
      "Requirement already satisfied: fastavro<2,>=0.23.6 in c:\\users\\arturo clemente\\appdata\\roaming\\python\\python312\\site-packages (from apache_beam) (1.9.7)\n",
      "Requirement already satisfied: fasteners<1.0,>=0.3 in c:\\users\\arturo clemente\\appdata\\roaming\\python\\python312\\site-packages (from apache_beam) (0.19)\n",
      "Requirement already satisfied: grpcio!=1.48.0,!=1.59.*,!=1.60.*,!=1.61.*,!=1.62.0,!=1.62.1,<1.66.0,<2,>=1.33.1 in c:\\users\\arturo clemente\\appdata\\roaming\\python\\python312\\site-packages (from apache_beam) (1.65.5)\n",
      "Requirement already satisfied: hdfs<3.0.0,>=2.1.0 in c:\\users\\arturo clemente\\appdata\\roaming\\python\\python312\\site-packages (from apache_beam) (2.7.3)\n",
      "Requirement already satisfied: httplib2<0.23.0,>=0.8 in c:\\users\\arturo clemente\\appdata\\roaming\\python\\python312\\site-packages (from apache_beam) (0.22.0)\n",
      "Requirement already satisfied: jsonschema<5.0.0,>=4.0.0 in c:\\users\\arturo clemente\\appdata\\roaming\\python\\python312\\site-packages (from apache_beam) (4.23.0)\n",
      "Requirement already satisfied: jsonpickle<4.0.0,>=3.0.0 in c:\\users\\arturo clemente\\appdata\\roaming\\python\\python312\\site-packages (from apache_beam) (3.3.0)\n",
      "Requirement already satisfied: numpy<1.27.0,>=1.14.3 in c:\\users\\arturo clemente\\appdata\\roaming\\python\\python312\\site-packages (from apache_beam) (1.26.4)\n",
      "Requirement already satisfied: objsize<0.8.0,>=0.6.1 in c:\\users\\arturo clemente\\appdata\\roaming\\python\\python312\\site-packages (from apache_beam) (0.7.0)\n",
      "Requirement already satisfied: packaging>=22.0 in c:\\users\\arturo clemente\\appdata\\roaming\\python\\python312\\site-packages (from apache_beam) (24.1)\n",
      "Requirement already satisfied: pymongo<5.0.0,>=3.8.0 in c:\\users\\arturo clemente\\appdata\\roaming\\python\\python312\\site-packages (from apache_beam) (4.10.1)\n",
      "Requirement already satisfied: proto-plus<2,>=1.7.1 in c:\\users\\arturo clemente\\appdata\\roaming\\python\\python312\\site-packages (from apache_beam) (1.25.0)\n",
      "Requirement already satisfied: protobuf!=4.0.*,!=4.21.*,!=4.22.0,!=4.23.*,!=4.24.*,<4.26.0,>=3.20.3 in c:\\users\\arturo clemente\\appdata\\roaming\\python\\python312\\site-packages (from apache_beam) (4.25.5)\n",
      "Requirement already satisfied: pydot<2,>=1.2.0 in c:\\users\\arturo clemente\\appdata\\roaming\\python\\python312\\site-packages (from apache_beam) (1.4.2)\n",
      "Requirement already satisfied: python-dateutil<3,>=2.8.0 in c:\\users\\arturo clemente\\appdata\\roaming\\python\\python312\\site-packages (from apache_beam) (2.9.0.post0)\n",
      "Requirement already satisfied: pytz>=2018.3 in c:\\users\\arturo clemente\\appdata\\roaming\\python\\python312\\site-packages (from apache_beam) (2024.2)\n",
      "Requirement already satisfied: redis<6,>=5.0.0 in c:\\users\\arturo clemente\\appdata\\roaming\\python\\python312\\site-packages (from apache_beam) (5.2.0)\n",
      "Requirement already satisfied: regex>=2020.6.8 in c:\\users\\arturo clemente\\appdata\\roaming\\python\\python312\\site-packages (from apache_beam) (2024.9.11)\n",
      "Requirement already satisfied: requests<3.0.0,>=2.24.0 in c:\\users\\arturo clemente\\appdata\\roaming\\python\\python312\\site-packages (from apache_beam) (2.32.3)\n",
      "Requirement already satisfied: typing-extensions>=3.7.0 in c:\\users\\arturo clemente\\appdata\\roaming\\python\\python312\\site-packages (from apache_beam) (4.12.2)\n",
      "Requirement already satisfied: zstandard<1,>=0.18.0 in c:\\users\\arturo clemente\\appdata\\roaming\\python\\python312\\site-packages (from apache_beam) (0.23.0)\n",
      "Requirement already satisfied: pyarrow<17.0.0,>=3.0.0 in c:\\users\\arturo clemente\\appdata\\roaming\\python\\python312\\site-packages (from apache_beam) (16.1.0)\n",
      "Requirement already satisfied: pyarrow-hotfix<1 in c:\\users\\arturo clemente\\appdata\\roaming\\python\\python312\\site-packages (from apache_beam) (0.6)\n",
      "Requirement already satisfied: docopt in c:\\users\\arturo clemente\\appdata\\roaming\\python\\python312\\site-packages (from hdfs<3.0.0,>=2.1.0->apache_beam) (0.6.2)\n",
      "Requirement already satisfied: six>=1.9.0 in c:\\users\\arturo clemente\\appdata\\roaming\\python\\python312\\site-packages (from hdfs<3.0.0,>=2.1.0->apache_beam) (1.16.0)\n",
      "Requirement already satisfied: pyparsing!=3.0.0,!=3.0.1,!=3.0.2,!=3.0.3,<4,>=2.4.2 in c:\\users\\arturo clemente\\appdata\\roaming\\python\\python312\\site-packages (from httplib2<0.23.0,>=0.8->apache_beam) (3.2.0)\n",
      "Requirement already satisfied: attrs>=22.2.0 in c:\\users\\arturo clemente\\appdata\\roaming\\python\\python312\\site-packages (from jsonschema<5.0.0,>=4.0.0->apache_beam) (24.2.0)\n",
      "Requirement already satisfied: jsonschema-specifications>=2023.03.6 in c:\\users\\arturo clemente\\appdata\\roaming\\python\\python312\\site-packages (from jsonschema<5.0.0,>=4.0.0->apache_beam) (2024.10.1)\n",
      "Requirement already satisfied: referencing>=0.28.4 in c:\\users\\arturo clemente\\appdata\\roaming\\python\\python312\\site-packages (from jsonschema<5.0.0,>=4.0.0->apache_beam) (0.35.1)\n",
      "Requirement already satisfied: rpds-py>=0.7.1 in c:\\users\\arturo clemente\\appdata\\roaming\\python\\python312\\site-packages (from jsonschema<5.0.0,>=4.0.0->apache_beam) (0.20.1)\n",
      "Requirement already satisfied: dnspython<3.0.0,>=1.16.0 in c:\\users\\arturo clemente\\appdata\\roaming\\python\\python312\\site-packages (from pymongo<5.0.0,>=3.8.0->apache_beam) (2.7.0)\n",
      "Requirement already satisfied: charset-normalizer<4,>=2 in c:\\users\\arturo clemente\\appdata\\roaming\\python\\python312\\site-packages (from requests<3.0.0,>=2.24.0->apache_beam) (3.4.0)\n",
      "Requirement already satisfied: idna<4,>=2.5 in c:\\users\\arturo clemente\\appdata\\roaming\\python\\python312\\site-packages (from requests<3.0.0,>=2.24.0->apache_beam) (3.10)\n",
      "Requirement already satisfied: urllib3<3,>=1.21.1 in c:\\users\\arturo clemente\\appdata\\roaming\\python\\python312\\site-packages (from requests<3.0.0,>=2.24.0->apache_beam) (2.2.3)\n",
      "Requirement already satisfied: certifi>=2017.4.17 in c:\\users\\arturo clemente\\appdata\\roaming\\python\\python312\\site-packages (from requests<3.0.0,>=2.24.0->apache_beam) (2024.8.30)\n"
     ]
    }
   ],
   "source": [
    "! pip3 install apache_beam"
   ]
  },
  {
   "cell_type": "code",
   "execution_count": 1,
   "id": "4ebeb477-5e0a-4cec-9b91-a09e33fbacc2",
   "metadata": {
    "tags": []
   },
   "outputs": [
    {
     "ename": "ModuleNotFoundError",
     "evalue": "No module named 'apache_beam'",
     "output_type": "error",
     "traceback": [
      "\u001b[1;31m---------------------------------------------------------------------------\u001b[0m",
      "\u001b[1;31mModuleNotFoundError\u001b[0m                       Traceback (most recent call last)",
      "Cell \u001b[1;32mIn[1], line 1\u001b[0m\n\u001b[1;32m----> 1\u001b[0m \u001b[38;5;28;01mimport\u001b[39;00m \u001b[38;5;21;01mapache_beam\u001b[39;00m \u001b[38;5;28;01mas\u001b[39;00m \u001b[38;5;21;01mbeam\u001b[39;00m\n\u001b[0;32m      2\u001b[0m p1 \u001b[38;5;241m=\u001b[39m beam\u001b[38;5;241m.\u001b[39mPipeline()\n\u001b[0;32m      3\u001b[0m movie_gt_4 \u001b[38;5;241m=\u001b[39m (\n\u001b[0;32m      4\u001b[0m     p1\n\u001b[0;32m      5\u001b[0m     \u001b[38;5;241m|\u001b[39m beam\u001b[38;5;241m.\u001b[39mio\u001b[38;5;241m.\u001b[39mReadFromText(\u001b[38;5;124m'\u001b[39m\u001b[38;5;124mmovies_rating.txt\u001b[39m\u001b[38;5;124m'\u001b[39m,skip_header_lines\u001b[38;5;241m=\u001b[39m\u001b[38;5;241m1\u001b[39m) \u001b[38;5;66;03m#Reading from movie_rating & skipping the first line\u001b[39;00m\n\u001b[1;32m   (...)\u001b[0m\n\u001b[0;32m      8\u001b[0m     \u001b[38;5;241m|\u001b[39m beam\u001b[38;5;241m.\u001b[39mio\u001b[38;5;241m.\u001b[39mWriteToText(\u001b[38;5;124m'\u001b[39m\u001b[38;5;124mresult.txt\u001b[39m\u001b[38;5;124m'\u001b[39m) \u001b[38;5;66;03m#writing the result back to some storage\u001b[39;00m\n\u001b[0;32m      9\u001b[0m )\n",
      "\u001b[1;31mModuleNotFoundError\u001b[0m: No module named 'apache_beam'"
     ]
    }
   ],
   "source": [
    "import apache_beam as beam\n",
    "p1 = beam.Pipeline()\n",
    "movie_gt_4 = (\n",
    "    p1\n",
    "    | beam.io.ReadFromText('movies_rating.txt',skip_header_lines=1) #Reading from movie_rating & skipping the first line\n",
    "    | beam.Map(lambda record: record.split(',')) #splitting the records by comma\n",
    "    | beam.Filter(lambda record: float(record[2]) > 3.5) #getting only those movies who has rating greater than 4\n",
    "    | beam.io.WriteToText('result.txt') #writing the result back to some storage\n",
    ")\n",
    "p1.run()\n"
   ]
  },
  {
   "cell_type": "code",
   "execution_count": 2,
   "id": "fcb70b86-833d-4466-aede-b931e0795264",
   "metadata": {},
   "outputs": [
    {
     "name": "stdout",
     "output_type": "stream",
     "text": [
      "Defaulting to user installation because normal site-packages is not writeable\n",
      "Requirement already satisfied: ipykernel in c:\\users\\arturo clemente\\appdata\\roaming\\python\\python312\\site-packages (6.29.5)\n",
      "Requirement already satisfied: comm>=0.1.1 in c:\\users\\arturo clemente\\appdata\\roaming\\python\\python312\\site-packages (from ipykernel) (0.2.2)\n",
      "Requirement already satisfied: debugpy>=1.6.5 in c:\\users\\arturo clemente\\appdata\\roaming\\python\\python312\\site-packages (from ipykernel) (1.8.7)\n",
      "Requirement already satisfied: ipython>=7.23.1 in c:\\users\\arturo clemente\\appdata\\roaming\\python\\python312\\site-packages (from ipykernel) (8.29.0)\n",
      "Requirement already satisfied: jupyter-client>=6.1.12 in c:\\users\\arturo clemente\\appdata\\roaming\\python\\python312\\site-packages (from ipykernel) (8.6.3)\n",
      "Requirement already satisfied: jupyter-core!=5.0.*,>=4.12 in c:\\users\\arturo clemente\\appdata\\roaming\\python\\python312\\site-packages (from ipykernel) (5.7.2)\n",
      "Requirement already satisfied: matplotlib-inline>=0.1 in c:\\users\\arturo clemente\\appdata\\roaming\\python\\python312\\site-packages (from ipykernel) (0.1.7)\n",
      "Requirement already satisfied: nest-asyncio in c:\\users\\arturo clemente\\appdata\\roaming\\python\\python312\\site-packages (from ipykernel) (1.6.0)\n",
      "Requirement already satisfied: packaging in c:\\users\\arturo clemente\\appdata\\roaming\\python\\python312\\site-packages (from ipykernel) (24.1)\n",
      "Requirement already satisfied: psutil in c:\\users\\arturo clemente\\appdata\\roaming\\python\\python312\\site-packages (from ipykernel) (6.1.0)\n",
      "Requirement already satisfied: pyzmq>=24 in c:\\users\\arturo clemente\\appdata\\roaming\\python\\python312\\site-packages (from ipykernel) (26.2.0)\n",
      "Requirement already satisfied: tornado>=6.1 in c:\\users\\arturo clemente\\appdata\\roaming\\python\\python312\\site-packages (from ipykernel) (6.4.1)\n",
      "Requirement already satisfied: traitlets>=5.4.0 in c:\\users\\arturo clemente\\appdata\\roaming\\python\\python312\\site-packages (from ipykernel) (5.14.3)\n",
      "Requirement already satisfied: decorator in c:\\users\\arturo clemente\\appdata\\roaming\\python\\python312\\site-packages (from ipython>=7.23.1->ipykernel) (5.1.1)\n",
      "Requirement already satisfied: jedi>=0.16 in c:\\users\\arturo clemente\\appdata\\roaming\\python\\python312\\site-packages (from ipython>=7.23.1->ipykernel) (0.19.1)\n",
      "Requirement already satisfied: prompt-toolkit<3.1.0,>=3.0.41 in c:\\users\\arturo clemente\\appdata\\roaming\\python\\python312\\site-packages (from ipython>=7.23.1->ipykernel) (3.0.48)\n",
      "Requirement already satisfied: pygments>=2.4.0 in c:\\users\\arturo clemente\\appdata\\roaming\\python\\python312\\site-packages (from ipython>=7.23.1->ipykernel) (2.18.0)\n",
      "Requirement already satisfied: stack-data in c:\\users\\arturo clemente\\appdata\\roaming\\python\\python312\\site-packages (from ipython>=7.23.1->ipykernel) (0.6.3)\n",
      "Requirement already satisfied: colorama in c:\\users\\arturo clemente\\appdata\\roaming\\python\\python312\\site-packages (from ipython>=7.23.1->ipykernel) (0.4.6)\n",
      "Requirement already satisfied: python-dateutil>=2.8.2 in c:\\users\\arturo clemente\\appdata\\roaming\\python\\python312\\site-packages (from jupyter-client>=6.1.12->ipykernel) (2.9.0.post0)\n",
      "Requirement already satisfied: platformdirs>=2.5 in c:\\users\\arturo clemente\\appdata\\roaming\\python\\python312\\site-packages (from jupyter-core!=5.0.*,>=4.12->ipykernel) (4.3.6)\n",
      "Requirement already satisfied: pywin32>=300 in c:\\users\\arturo clemente\\appdata\\roaming\\python\\python312\\site-packages (from jupyter-core!=5.0.*,>=4.12->ipykernel) (308)\n",
      "Requirement already satisfied: parso<0.9.0,>=0.8.3 in c:\\users\\arturo clemente\\appdata\\roaming\\python\\python312\\site-packages (from jedi>=0.16->ipython>=7.23.1->ipykernel) (0.8.4)\n",
      "Requirement already satisfied: wcwidth in c:\\users\\arturo clemente\\appdata\\roaming\\python\\python312\\site-packages (from prompt-toolkit<3.1.0,>=3.0.41->ipython>=7.23.1->ipykernel) (0.2.13)\n",
      "Requirement already satisfied: six>=1.5 in c:\\users\\arturo clemente\\appdata\\roaming\\python\\python312\\site-packages (from python-dateutil>=2.8.2->jupyter-client>=6.1.12->ipykernel) (1.16.0)\n",
      "Requirement already satisfied: executing>=1.2.0 in c:\\users\\arturo clemente\\appdata\\roaming\\python\\python312\\site-packages (from stack-data->ipython>=7.23.1->ipykernel) (2.1.0)\n",
      "Requirement already satisfied: asttokens>=2.1.0 in c:\\users\\arturo clemente\\appdata\\roaming\\python\\python312\\site-packages (from stack-data->ipython>=7.23.1->ipykernel) (2.4.1)\n",
      "Requirement already satisfied: pure-eval in c:\\users\\arturo clemente\\appdata\\roaming\\python\\python312\\site-packages (from stack-data->ipython>=7.23.1->ipykernel) (0.2.3)\n"
     ]
    }
   ],
   "source": [
    "! pip install ipykernel"
   ]
  },
  {
   "cell_type": "code",
   "execution_count": 3,
   "id": "8bce31e7-bf30-4279-9114-3447d06be38c",
   "metadata": {
    "tags": []
   },
   "outputs": [
    {
     "ename": "SyntaxError",
     "evalue": "invalid syntax (4009142187.py, line 1)",
     "output_type": "error",
     "traceback": [
      "\u001b[1;36m  Cell \u001b[1;32mIn[3], line 1\u001b[1;36m\u001b[0m\n\u001b[1;33m    python -m ipykernel install --user --name Python312 --display-name \"Python312\"\u001b[0m\n\u001b[1;37m              ^\u001b[0m\n\u001b[1;31mSyntaxError\u001b[0m\u001b[1;31m:\u001b[0m invalid syntax\n"
     ]
    }
   ],
   "source": [
    "python -m ipykernel install --user --name Python312 --display-name \"Python312\""
   ]
  },
  {
   "cell_type": "code",
   "execution_count": null,
   "id": "b988a77f-c2f8-4925-b390-d6673e24fb96",
   "metadata": {},
   "outputs": [],
   "source": []
  }
 ],
 "metadata": {
  "kernelspec": {
   "display_name": "Python 3 (ipykernel)",
   "language": "python",
   "name": "python3"
  },
  "language_info": {
   "codemirror_mode": {
    "name": "ipython",
    "version": 3
   },
   "file_extension": ".py",
   "mimetype": "text/x-python",
   "name": "python",
   "nbconvert_exporter": "python",
   "pygments_lexer": "ipython3",
   "version": "3.11.2"
  }
 },
 "nbformat": 4,
 "nbformat_minor": 5
}
