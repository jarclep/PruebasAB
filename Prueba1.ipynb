{
 "cells": [
  {
   "cell_type": "code",
   "execution_count": 1,
   "id": "d9a34457-9b5f-41fe-9ac8-66fde2dfbbb6",
   "metadata": {
    "tags": []
   },
   "outputs": [
    {
     "name": "stdout",
     "output_type": "stream",
     "text": [
      "Holi\n"
     ]
    }
   ],
   "source": [
    "print('Holi')"
   ]
  },
  {
   "cell_type": "code",
   "execution_count": 2,
   "id": "dd0479e4-12c6-4c53-a95c-cdc25838df9a",
   "metadata": {
    "tags": []
   },
   "outputs": [
    {
     "name": "stdout",
     "output_type": "stream",
     "text": [
      "Defaulting to user installation because normal site-packages is not writeable\n",
      "Requirement already satisfied: apache_beam in c:\\users\\arturo clemente\\appdata\\roaming\\python\\python312\\site-packages (2.60.0)\n",
      "Requirement already satisfied: crcmod<2.0,>=1.7 in c:\\users\\arturo clemente\\appdata\\roaming\\python\\python312\\site-packages (from apache_beam) (1.7)\n",
      "Requirement already satisfied: orjson<4,>=3.9.7 in c:\\users\\arturo clemente\\appdata\\roaming\\python\\python312\\site-packages (from apache_beam) (3.10.11)\n",
      "Requirement already satisfied: dill<0.3.2,>=0.3.1.1 in c:\\users\\arturo clemente\\appdata\\roaming\\python\\python312\\site-packages (from apache_beam) (0.3.1.1)\n",
      "Requirement already satisfied: cloudpickle~=2.2.1 in c:\\users\\arturo clemente\\appdata\\roaming\\python\\python312\\site-packages (from apache_beam) (2.2.1)\n",
      "Requirement already satisfied: fastavro<2,>=0.23.6 in c:\\users\\arturo clemente\\appdata\\roaming\\python\\python312\\site-packages (from apache_beam) (1.9.7)\n",
      "Requirement already satisfied: fasteners<1.0,>=0.3 in c:\\users\\arturo clemente\\appdata\\roaming\\python\\python312\\site-packages (from apache_beam) (0.19)\n",
      "Requirement already satisfied: grpcio!=1.48.0,!=1.59.*,!=1.60.*,!=1.61.*,!=1.62.0,!=1.62.1,<1.66.0,<2,>=1.33.1 in c:\\users\\arturo clemente\\appdata\\roaming\\python\\python312\\site-packages (from apache_beam) (1.65.5)\n",
      "Requirement already satisfied: hdfs<3.0.0,>=2.1.0 in c:\\users\\arturo clemente\\appdata\\roaming\\python\\python312\\site-packages (from apache_beam) (2.7.3)\n",
      "Requirement already satisfied: httplib2<0.23.0,>=0.8 in c:\\users\\arturo clemente\\appdata\\roaming\\python\\python312\\site-packages (from apache_beam) (0.22.0)\n",
      "Requirement already satisfied: jsonschema<5.0.0,>=4.0.0 in c:\\users\\arturo clemente\\appdata\\roaming\\python\\python312\\site-packages (from apache_beam) (4.23.0)\n",
      "Requirement already satisfied: jsonpickle<4.0.0,>=3.0.0 in c:\\users\\arturo clemente\\appdata\\roaming\\python\\python312\\site-packages (from apache_beam) (3.3.0)\n",
      "Requirement already satisfied: numpy<1.27.0,>=1.14.3 in c:\\users\\arturo clemente\\appdata\\roaming\\python\\python312\\site-packages (from apache_beam) (1.26.4)\n",
      "Requirement already satisfied: objsize<0.8.0,>=0.6.1 in c:\\users\\arturo clemente\\appdata\\roaming\\python\\python312\\site-packages (from apache_beam) (0.7.0)\n",
      "Requirement already satisfied: packaging>=22.0 in c:\\users\\arturo clemente\\appdata\\roaming\\python\\python312\\site-packages (from apache_beam) (24.1)\n",
      "Requirement already satisfied: pymongo<5.0.0,>=3.8.0 in c:\\users\\arturo clemente\\appdata\\roaming\\python\\python312\\site-packages (from apache_beam) (4.10.1)\n",
      "Requirement already satisfied: proto-plus<2,>=1.7.1 in c:\\users\\arturo clemente\\appdata\\roaming\\python\\python312\\site-packages (from apache_beam) (1.25.0)\n",
      "Requirement already satisfied: protobuf!=4.0.*,!=4.21.*,!=4.22.0,!=4.23.*,!=4.24.*,<4.26.0,>=3.20.3 in c:\\users\\arturo clemente\\appdata\\roaming\\python\\python312\\site-packages (from apache_beam) (4.25.5)\n",
      "Requirement already satisfied: pydot<2,>=1.2.0 in c:\\users\\arturo clemente\\appdata\\roaming\\python\\python312\\site-packages (from apache_beam) (1.4.2)\n",
      "Requirement already satisfied: python-dateutil<3,>=2.8.0 in c:\\users\\arturo clemente\\appdata\\roaming\\python\\python312\\site-packages (from apache_beam) (2.9.0.post0)\n",
      "Requirement already satisfied: pytz>=2018.3 in c:\\users\\arturo clemente\\appdata\\roaming\\python\\python312\\site-packages (from apache_beam) (2024.2)\n",
      "Requirement already satisfied: redis<6,>=5.0.0 in c:\\users\\arturo clemente\\appdata\\roaming\\python\\python312\\site-packages (from apache_beam) (5.2.0)\n",
      "Requirement already satisfied: regex>=2020.6.8 in c:\\users\\arturo clemente\\appdata\\roaming\\python\\python312\\site-packages (from apache_beam) (2024.9.11)\n",
      "Requirement already satisfied: requests<3.0.0,>=2.24.0 in c:\\users\\arturo clemente\\appdata\\roaming\\python\\python312\\site-packages (from apache_beam) (2.32.3)\n",
      "Requirement already satisfied: typing-extensions>=3.7.0 in c:\\users\\arturo clemente\\appdata\\roaming\\python\\python312\\site-packages (from apache_beam) (4.12.2)\n",
      "Requirement already satisfied: zstandard<1,>=0.18.0 in c:\\users\\arturo clemente\\appdata\\roaming\\python\\python312\\site-packages (from apache_beam) (0.23.0)\n",
      "Requirement already satisfied: pyarrow<17.0.0,>=3.0.0 in c:\\users\\arturo clemente\\appdata\\roaming\\python\\python312\\site-packages (from apache_beam) (16.1.0)\n",
      "Requirement already satisfied: pyarrow-hotfix<1 in c:\\users\\arturo clemente\\appdata\\roaming\\python\\python312\\site-packages (from apache_beam) (0.6)\n",
      "Requirement already satisfied: docopt in c:\\users\\arturo clemente\\appdata\\roaming\\python\\python312\\site-packages (from hdfs<3.0.0,>=2.1.0->apache_beam) (0.6.2)\n",
      "Requirement already satisfied: six>=1.9.0 in c:\\users\\arturo clemente\\appdata\\roaming\\python\\python312\\site-packages (from hdfs<3.0.0,>=2.1.0->apache_beam) (1.16.0)\n",
      "Requirement already satisfied: pyparsing!=3.0.0,!=3.0.1,!=3.0.2,!=3.0.3,<4,>=2.4.2 in c:\\users\\arturo clemente\\appdata\\roaming\\python\\python312\\site-packages (from httplib2<0.23.0,>=0.8->apache_beam) (3.2.0)\n",
      "Requirement already satisfied: attrs>=22.2.0 in c:\\users\\arturo clemente\\appdata\\roaming\\python\\python312\\site-packages (from jsonschema<5.0.0,>=4.0.0->apache_beam) (24.2.0)\n",
      "Requirement already satisfied: jsonschema-specifications>=2023.03.6 in c:\\users\\arturo clemente\\appdata\\roaming\\python\\python312\\site-packages (from jsonschema<5.0.0,>=4.0.0->apache_beam) (2024.10.1)\n",
      "Requirement already satisfied: referencing>=0.28.4 in c:\\users\\arturo clemente\\appdata\\roaming\\python\\python312\\site-packages (from jsonschema<5.0.0,>=4.0.0->apache_beam) (0.35.1)\n",
      "Requirement already satisfied: rpds-py>=0.7.1 in c:\\users\\arturo clemente\\appdata\\roaming\\python\\python312\\site-packages (from jsonschema<5.0.0,>=4.0.0->apache_beam) (0.20.1)\n",
      "Requirement already satisfied: dnspython<3.0.0,>=1.16.0 in c:\\users\\arturo clemente\\appdata\\roaming\\python\\python312\\site-packages (from pymongo<5.0.0,>=3.8.0->apache_beam) (2.7.0)\n",
      "Requirement already satisfied: charset-normalizer<4,>=2 in c:\\users\\arturo clemente\\appdata\\roaming\\python\\python312\\site-packages (from requests<3.0.0,>=2.24.0->apache_beam) (3.4.0)\n",
      "Requirement already satisfied: idna<4,>=2.5 in c:\\users\\arturo clemente\\appdata\\roaming\\python\\python312\\site-packages (from requests<3.0.0,>=2.24.0->apache_beam) (3.10)\n",
      "Requirement already satisfied: urllib3<3,>=1.21.1 in c:\\users\\arturo clemente\\appdata\\roaming\\python\\python312\\site-packages (from requests<3.0.0,>=2.24.0->apache_beam) (2.2.3)\n",
      "Requirement already satisfied: certifi>=2017.4.17 in c:\\users\\arturo clemente\\appdata\\roaming\\python\\python312\\site-packages (from requests<3.0.0,>=2.24.0->apache_beam) (2024.8.30)\n"
     ]
    }
   ],
   "source": [
    "! pip3 install apache_beam"
   ]
  },
  {
   "cell_type": "code",
   "execution_count": 3,
   "id": "1f969c9e",
   "metadata": {},
   "outputs": [
    {
     "name": "stdout",
     "output_type": "stream",
     "text": [
      "Defaulting to user installation because normal site-packages is not writeable\n",
      "Requirement already satisfied: pandas in c:\\users\\arturo clemente\\appdata\\roaming\\python\\python312\\site-packages (2.2.3)\n",
      "Requirement already satisfied: numpy>=1.26.0 in c:\\users\\arturo clemente\\appdata\\roaming\\python\\python312\\site-packages (from pandas) (1.26.4)\n",
      "Requirement already satisfied: python-dateutil>=2.8.2 in c:\\users\\arturo clemente\\appdata\\roaming\\python\\python312\\site-packages (from pandas) (2.9.0.post0)\n",
      "Requirement already satisfied: pytz>=2020.1 in c:\\users\\arturo clemente\\appdata\\roaming\\python\\python312\\site-packages (from pandas) (2024.2)\n",
      "Requirement already satisfied: tzdata>=2022.7 in c:\\users\\arturo clemente\\appdata\\roaming\\python\\python312\\site-packages (from pandas) (2024.2)\n",
      "Requirement already satisfied: six>=1.5 in c:\\users\\arturo clemente\\appdata\\roaming\\python\\python312\\site-packages (from python-dateutil>=2.8.2->pandas) (1.16.0)\n"
     ]
    }
   ],
   "source": [
    "! pip3 install pandas"
   ]
  },
  {
   "cell_type": "code",
   "execution_count": 4,
   "id": "4ebeb477-5e0a-4cec-9b91-a09e33fbacc2",
   "metadata": {
    "tags": []
   },
   "outputs": [
    {
     "name": "stderr",
     "output_type": "stream",
     "text": [
      "WARNING:apache_beam.runners.interactive.interactive_environment:Dependencies required for Interactive Beam PCollection visualization are not available, please use: `pip install apache-beam[interactive]` to install necessary dependencies to enable all data visualization features.\n"
     ]
    },
    {
     "data": {
      "application/javascript": "\n        if (typeof window.interactive_beam_jquery == 'undefined') {\n          var jqueryScript = document.createElement('script');\n          jqueryScript.src = 'https://code.jquery.com/jquery-3.4.1.slim.min.js';\n          jqueryScript.type = 'text/javascript';\n          jqueryScript.onload = function() {\n            var datatableScript = document.createElement('script');\n            datatableScript.src = 'https://cdn.datatables.net/1.10.20/js/jquery.dataTables.min.js';\n            datatableScript.type = 'text/javascript';\n            datatableScript.onload = function() {\n              window.interactive_beam_jquery = jQuery.noConflict(true);\n              window.interactive_beam_jquery(document).ready(function($){\n                \n              });\n            }\n            document.head.appendChild(datatableScript);\n          };\n          document.head.appendChild(jqueryScript);\n        } else {\n          window.interactive_beam_jquery(document).ready(function($){\n            \n          });\n        }"
     },
     "metadata": {},
     "output_type": "display_data"
    },
    {
     "data": {
      "text/plain": [
       "<apache_beam.runners.portability.fn_api_runner.fn_runner.RunnerResult at 0x274e4d57140>"
      ]
     },
     "execution_count": 4,
     "metadata": {},
     "output_type": "execute_result"
    }
   ],
   "source": [
    "import apache_beam as beam\n",
    "import pandas as pd\n",
    "p1 = beam.Pipeline()\n",
    "movie_gt_4 = (\n",
    "    p1\n",
    "    | beam.io.ReadFromText('movies_rating.txt',skip_header_lines=1) #Reading from movie_rating & skipping the first line\n",
    "    | beam.Map(lambda record: record.split(',')) #splitting the records by comma\n",
    "    | beam.Filter(lambda record: float(record[2]) > 3.5) #getting only those movies who has rating greater than 4\n",
    "    | beam.io.WriteToText('result.txt') #writing the result back to some storage\n",
    ")\n",
    "p1.run()\n"
   ]
  },
  {
   "cell_type": "code",
   "execution_count": 5,
   "metadata": {},
   "outputs": [
    {
     "name": "stdout",
     "output_type": "stream",
     "text": [
      "c:\\Python312\\python.exe\n"
     ]
    }
   ],
   "source": [
    "import sys\n",
    "print(sys.executable)"
   ]
  },
  {
   "cell_type": "code",
   "execution_count": 6,
   "id": "7d3567b2",
   "metadata": {},
   "outputs": [
    {
     "name": "stdout",
     "output_type": "stream",
     "text": [
      "Defaulting to user installation because normal site-packages is not writeable\n",
      "Requirement already satisfied: jupyter in c:\\users\\arturo clemente\\appdata\\roaming\\python\\python312\\site-packages (1.1.1)\n",
      "Requirement already satisfied: lab in c:\\users\\arturo clemente\\appdata\\roaming\\python\\python312\\site-packages (8.3)\n",
      "Requirement already satisfied: notebook in c:\\users\\arturo clemente\\appdata\\roaming\\python\\python312\\site-packages (from jupyter) (7.2.2)\n",
      "Requirement already satisfied: jupyter-console in c:\\users\\arturo clemente\\appdata\\roaming\\python\\python312\\site-packages (from jupyter) (6.6.3)\n",
      "Requirement already satisfied: nbconvert in c:\\users\\arturo clemente\\appdata\\roaming\\python\\python312\\site-packages (from jupyter) (7.16.4)\n",
      "Requirement already satisfied: ipykernel in c:\\users\\arturo clemente\\appdata\\roaming\\python\\python312\\site-packages (from jupyter) (6.29.5)\n",
      "Requirement already satisfied: ipywidgets in c:\\users\\arturo clemente\\appdata\\roaming\\python\\python312\\site-packages (from jupyter) (8.1.5)\n",
      "Requirement already satisfied: jupyterlab in c:\\users\\arturo clemente\\appdata\\roaming\\python\\python312\\site-packages (from jupyter) (4.2.5)\n",
      "Requirement already satisfied: matplotlib in c:\\users\\arturo clemente\\appdata\\roaming\\python\\python312\\site-packages (from lab) (3.9.2)\n",
      "Requirement already satisfied: simplejson in c:\\users\\arturo clemente\\appdata\\roaming\\python\\python312\\site-packages (from lab) (3.19.3)\n",
      "Requirement already satisfied: txt2tags>=3.6 in c:\\users\\arturo clemente\\appdata\\roaming\\python\\python312\\site-packages (from lab) (3.9)\n",
      "Requirement already satisfied: comm>=0.1.1 in c:\\users\\arturo clemente\\appdata\\roaming\\python\\python312\\site-packages (from ipykernel->jupyter) (0.2.2)\n",
      "Requirement already satisfied: debugpy>=1.6.5 in c:\\users\\arturo clemente\\appdata\\roaming\\python\\python312\\site-packages (from ipykernel->jupyter) (1.8.7)\n",
      "Requirement already satisfied: ipython>=7.23.1 in c:\\users\\arturo clemente\\appdata\\roaming\\python\\python312\\site-packages (from ipykernel->jupyter) (8.29.0)\n",
      "Requirement already satisfied: jupyter-client>=6.1.12 in c:\\users\\arturo clemente\\appdata\\roaming\\python\\python312\\site-packages (from ipykernel->jupyter) (8.6.3)\n",
      "Requirement already satisfied: jupyter-core!=5.0.*,>=4.12 in c:\\users\\arturo clemente\\appdata\\roaming\\python\\python312\\site-packages (from ipykernel->jupyter) (5.7.2)\n",
      "Requirement already satisfied: matplotlib-inline>=0.1 in c:\\users\\arturo clemente\\appdata\\roaming\\python\\python312\\site-packages (from ipykernel->jupyter) (0.1.7)\n",
      "Requirement already satisfied: nest-asyncio in c:\\users\\arturo clemente\\appdata\\roaming\\python\\python312\\site-packages (from ipykernel->jupyter) (1.6.0)\n",
      "Requirement already satisfied: packaging in c:\\users\\arturo clemente\\appdata\\roaming\\python\\python312\\site-packages (from ipykernel->jupyter) (24.1)\n",
      "Requirement already satisfied: psutil in c:\\users\\arturo clemente\\appdata\\roaming\\python\\python312\\site-packages (from ipykernel->jupyter) (6.1.0)\n",
      "Requirement already satisfied: pyzmq>=24 in c:\\users\\arturo clemente\\appdata\\roaming\\python\\python312\\site-packages (from ipykernel->jupyter) (26.2.0)\n",
      "Requirement already satisfied: tornado>=6.1 in c:\\users\\arturo clemente\\appdata\\roaming\\python\\python312\\site-packages (from ipykernel->jupyter) (6.4.1)\n",
      "Requirement already satisfied: traitlets>=5.4.0 in c:\\users\\arturo clemente\\appdata\\roaming\\python\\python312\\site-packages (from ipykernel->jupyter) (5.14.3)\n",
      "Requirement already satisfied: widgetsnbextension~=4.0.12 in c:\\users\\arturo clemente\\appdata\\roaming\\python\\python312\\site-packages (from ipywidgets->jupyter) (4.0.13)\n",
      "Requirement already satisfied: jupyterlab-widgets~=3.0.12 in c:\\users\\arturo clemente\\appdata\\roaming\\python\\python312\\site-packages (from ipywidgets->jupyter) (3.0.13)\n",
      "Requirement already satisfied: prompt-toolkit>=3.0.30 in c:\\users\\arturo clemente\\appdata\\roaming\\python\\python312\\site-packages (from jupyter-console->jupyter) (3.0.48)\n",
      "Requirement already satisfied: pygments in c:\\users\\arturo clemente\\appdata\\roaming\\python\\python312\\site-packages (from jupyter-console->jupyter) (2.18.0)\n",
      "Requirement already satisfied: async-lru>=1.0.0 in c:\\users\\arturo clemente\\appdata\\roaming\\python\\python312\\site-packages (from jupyterlab->jupyter) (2.0.4)\n",
      "Requirement already satisfied: httpx>=0.25.0 in c:\\users\\arturo clemente\\appdata\\roaming\\python\\python312\\site-packages (from jupyterlab->jupyter) (0.27.2)\n",
      "Requirement already satisfied: jinja2>=3.0.3 in c:\\users\\arturo clemente\\appdata\\roaming\\python\\python312\\site-packages (from jupyterlab->jupyter) (3.1.4)\n",
      "Requirement already satisfied: jupyter-lsp>=2.0.0 in c:\\users\\arturo clemente\\appdata\\roaming\\python\\python312\\site-packages (from jupyterlab->jupyter) (2.2.5)\n",
      "Requirement already satisfied: jupyter-server<3,>=2.4.0 in c:\\users\\arturo clemente\\appdata\\roaming\\python\\python312\\site-packages (from jupyterlab->jupyter) (2.14.2)\n",
      "Requirement already satisfied: jupyterlab-server<3,>=2.27.1 in c:\\users\\arturo clemente\\appdata\\roaming\\python\\python312\\site-packages (from jupyterlab->jupyter) (2.27.3)\n",
      "Requirement already satisfied: notebook-shim>=0.2 in c:\\users\\arturo clemente\\appdata\\roaming\\python\\python312\\site-packages (from jupyterlab->jupyter) (0.2.4)\n",
      "Requirement already satisfied: setuptools>=40.1.0 in c:\\users\\arturo clemente\\appdata\\roaming\\python\\python312\\site-packages (from jupyterlab->jupyter) (75.3.0)\n",
      "Requirement already satisfied: contourpy>=1.0.1 in c:\\users\\arturo clemente\\appdata\\roaming\\python\\python312\\site-packages (from matplotlib->lab) (1.3.0)\n",
      "Requirement already satisfied: cycler>=0.10 in c:\\users\\arturo clemente\\appdata\\roaming\\python\\python312\\site-packages (from matplotlib->lab) (0.12.1)\n",
      "Requirement already satisfied: fonttools>=4.22.0 in c:\\users\\arturo clemente\\appdata\\roaming\\python\\python312\\site-packages (from matplotlib->lab) (4.54.1)\n",
      "Requirement already satisfied: kiwisolver>=1.3.1 in c:\\users\\arturo clemente\\appdata\\roaming\\python\\python312\\site-packages (from matplotlib->lab) (1.4.7)\n",
      "Requirement already satisfied: numpy>=1.23 in c:\\users\\arturo clemente\\appdata\\roaming\\python\\python312\\site-packages (from matplotlib->lab) (1.26.4)\n",
      "Requirement already satisfied: pillow>=8 in c:\\users\\arturo clemente\\appdata\\roaming\\python\\python312\\site-packages (from matplotlib->lab) (11.0.0)\n",
      "Requirement already satisfied: pyparsing>=2.3.1 in c:\\users\\arturo clemente\\appdata\\roaming\\python\\python312\\site-packages (from matplotlib->lab) (3.2.0)\n",
      "Requirement already satisfied: python-dateutil>=2.7 in c:\\users\\arturo clemente\\appdata\\roaming\\python\\python312\\site-packages (from matplotlib->lab) (2.9.0.post0)\n",
      "Requirement already satisfied: beautifulsoup4 in c:\\users\\arturo clemente\\appdata\\roaming\\python\\python312\\site-packages (from nbconvert->jupyter) (4.12.3)\n",
      "Requirement already satisfied: bleach!=5.0.0 in c:\\users\\arturo clemente\\appdata\\roaming\\python\\python312\\site-packages (from nbconvert->jupyter) (6.2.0)\n",
      "Requirement already satisfied: defusedxml in c:\\users\\arturo clemente\\appdata\\roaming\\python\\python312\\site-packages (from nbconvert->jupyter) (0.7.1)\n",
      "Requirement already satisfied: jupyterlab-pygments in c:\\users\\arturo clemente\\appdata\\roaming\\python\\python312\\site-packages (from nbconvert->jupyter) (0.3.0)\n",
      "Requirement already satisfied: markupsafe>=2.0 in c:\\users\\arturo clemente\\appdata\\roaming\\python\\python312\\site-packages (from nbconvert->jupyter) (3.0.2)\n",
      "Requirement already satisfied: mistune<4,>=2.0.3 in c:\\users\\arturo clemente\\appdata\\roaming\\python\\python312\\site-packages (from nbconvert->jupyter) (3.0.2)\n",
      "Requirement already satisfied: nbclient>=0.5.0 in c:\\users\\arturo clemente\\appdata\\roaming\\python\\python312\\site-packages (from nbconvert->jupyter) (0.10.0)\n",
      "Requirement already satisfied: nbformat>=5.7 in c:\\users\\arturo clemente\\appdata\\roaming\\python\\python312\\site-packages (from nbconvert->jupyter) (5.10.4)\n",
      "Requirement already satisfied: pandocfilters>=1.4.1 in c:\\users\\arturo clemente\\appdata\\roaming\\python\\python312\\site-packages (from nbconvert->jupyter) (1.5.1)\n",
      "Requirement already satisfied: tinycss2 in c:\\users\\arturo clemente\\appdata\\roaming\\python\\python312\\site-packages (from nbconvert->jupyter) (1.4.0)\n",
      "Requirement already satisfied: webencodings in c:\\users\\arturo clemente\\appdata\\roaming\\python\\python312\\site-packages (from bleach!=5.0.0->nbconvert->jupyter) (0.5.1)\n",
      "Requirement already satisfied: anyio in c:\\users\\arturo clemente\\appdata\\roaming\\python\\python312\\site-packages (from httpx>=0.25.0->jupyterlab->jupyter) (4.6.2.post1)\n",
      "Requirement already satisfied: certifi in c:\\users\\arturo clemente\\appdata\\roaming\\python\\python312\\site-packages (from httpx>=0.25.0->jupyterlab->jupyter) (2024.8.30)\n",
      "Requirement already satisfied: httpcore==1.* in c:\\users\\arturo clemente\\appdata\\roaming\\python\\python312\\site-packages (from httpx>=0.25.0->jupyterlab->jupyter) (1.0.6)\n",
      "Requirement already satisfied: idna in c:\\users\\arturo clemente\\appdata\\roaming\\python\\python312\\site-packages (from httpx>=0.25.0->jupyterlab->jupyter) (3.10)\n",
      "Requirement already satisfied: sniffio in c:\\users\\arturo clemente\\appdata\\roaming\\python\\python312\\site-packages (from httpx>=0.25.0->jupyterlab->jupyter) (1.3.1)\n",
      "Requirement already satisfied: h11<0.15,>=0.13 in c:\\users\\arturo clemente\\appdata\\roaming\\python\\python312\\site-packages (from httpcore==1.*->httpx>=0.25.0->jupyterlab->jupyter) (0.14.0)\n",
      "Requirement already satisfied: decorator in c:\\users\\arturo clemente\\appdata\\roaming\\python\\python312\\site-packages (from ipython>=7.23.1->ipykernel->jupyter) (5.1.1)\n",
      "Requirement already satisfied: jedi>=0.16 in c:\\users\\arturo clemente\\appdata\\roaming\\python\\python312\\site-packages (from ipython>=7.23.1->ipykernel->jupyter) (0.19.1)\n",
      "Requirement already satisfied: stack-data in c:\\users\\arturo clemente\\appdata\\roaming\\python\\python312\\site-packages (from ipython>=7.23.1->ipykernel->jupyter) (0.6.3)\n",
      "Requirement already satisfied: colorama in c:\\users\\arturo clemente\\appdata\\roaming\\python\\python312\\site-packages (from ipython>=7.23.1->ipykernel->jupyter) (0.4.6)\n",
      "Requirement already satisfied: platformdirs>=2.5 in c:\\users\\arturo clemente\\appdata\\roaming\\python\\python312\\site-packages (from jupyter-core!=5.0.*,>=4.12->ipykernel->jupyter) (4.3.6)\n",
      "Requirement already satisfied: pywin32>=300 in c:\\users\\arturo clemente\\appdata\\roaming\\python\\python312\\site-packages (from jupyter-core!=5.0.*,>=4.12->ipykernel->jupyter) (308)\n",
      "Requirement already satisfied: argon2-cffi>=21.1 in c:\\users\\arturo clemente\\appdata\\roaming\\python\\python312\\site-packages (from jupyter-server<3,>=2.4.0->jupyterlab->jupyter) (23.1.0)\n",
      "Requirement already satisfied: jupyter-events>=0.9.0 in c:\\users\\arturo clemente\\appdata\\roaming\\python\\python312\\site-packages (from jupyter-server<3,>=2.4.0->jupyterlab->jupyter) (0.10.0)\n",
      "Requirement already satisfied: jupyter-server-terminals>=0.4.4 in c:\\users\\arturo clemente\\appdata\\roaming\\python\\python312\\site-packages (from jupyter-server<3,>=2.4.0->jupyterlab->jupyter) (0.5.3)\n",
      "Requirement already satisfied: overrides>=5.0 in c:\\users\\arturo clemente\\appdata\\roaming\\python\\python312\\site-packages (from jupyter-server<3,>=2.4.0->jupyterlab->jupyter) (7.7.0)\n",
      "Requirement already satisfied: prometheus-client>=0.9 in c:\\users\\arturo clemente\\appdata\\roaming\\python\\python312\\site-packages (from jupyter-server<3,>=2.4.0->jupyterlab->jupyter) (0.21.0)\n",
      "Requirement already satisfied: pywinpty>=2.0.1 in c:\\users\\arturo clemente\\appdata\\roaming\\python\\python312\\site-packages (from jupyter-server<3,>=2.4.0->jupyterlab->jupyter) (2.0.14)\n",
      "Requirement already satisfied: send2trash>=1.8.2 in c:\\users\\arturo clemente\\appdata\\roaming\\python\\python312\\site-packages (from jupyter-server<3,>=2.4.0->jupyterlab->jupyter) (1.8.3)\n",
      "Requirement already satisfied: terminado>=0.8.3 in c:\\users\\arturo clemente\\appdata\\roaming\\python\\python312\\site-packages (from jupyter-server<3,>=2.4.0->jupyterlab->jupyter) (0.18.1)\n",
      "Requirement already satisfied: websocket-client>=1.7 in c:\\users\\arturo clemente\\appdata\\roaming\\python\\python312\\site-packages (from jupyter-server<3,>=2.4.0->jupyterlab->jupyter) (1.8.0)\n",
      "Requirement already satisfied: babel>=2.10 in c:\\users\\arturo clemente\\appdata\\roaming\\python\\python312\\site-packages (from jupyterlab-server<3,>=2.27.1->jupyterlab->jupyter) (2.16.0)\n",
      "Requirement already satisfied: json5>=0.9.0 in c:\\users\\arturo clemente\\appdata\\roaming\\python\\python312\\site-packages (from jupyterlab-server<3,>=2.27.1->jupyterlab->jupyter) (0.9.25)\n",
      "Requirement already satisfied: jsonschema>=4.18.0 in c:\\users\\arturo clemente\\appdata\\roaming\\python\\python312\\site-packages (from jupyterlab-server<3,>=2.27.1->jupyterlab->jupyter) (4.23.0)\n",
      "Requirement already satisfied: requests>=2.31 in c:\\users\\arturo clemente\\appdata\\roaming\\python\\python312\\site-packages (from jupyterlab-server<3,>=2.27.1->jupyterlab->jupyter) (2.32.3)\n",
      "Requirement already satisfied: fastjsonschema>=2.15 in c:\\users\\arturo clemente\\appdata\\roaming\\python\\python312\\site-packages (from nbformat>=5.7->nbconvert->jupyter) (2.20.0)\n",
      "Requirement already satisfied: wcwidth in c:\\users\\arturo clemente\\appdata\\roaming\\python\\python312\\site-packages (from prompt-toolkit>=3.0.30->jupyter-console->jupyter) (0.2.13)\n",
      "Requirement already satisfied: six>=1.5 in c:\\users\\arturo clemente\\appdata\\roaming\\python\\python312\\site-packages (from python-dateutil>=2.7->matplotlib->lab) (1.16.0)\n",
      "Requirement already satisfied: soupsieve>1.2 in c:\\users\\arturo clemente\\appdata\\roaming\\python\\python312\\site-packages (from beautifulsoup4->nbconvert->jupyter) (2.6)\n",
      "Requirement already satisfied: argon2-cffi-bindings in c:\\users\\arturo clemente\\appdata\\roaming\\python\\python312\\site-packages (from argon2-cffi>=21.1->jupyter-server<3,>=2.4.0->jupyterlab->jupyter) (21.2.0)\n",
      "Requirement already satisfied: parso<0.9.0,>=0.8.3 in c:\\users\\arturo clemente\\appdata\\roaming\\python\\python312\\site-packages (from jedi>=0.16->ipython>=7.23.1->ipykernel->jupyter) (0.8.4)\n",
      "Requirement already satisfied: attrs>=22.2.0 in c:\\users\\arturo clemente\\appdata\\roaming\\python\\python312\\site-packages (from jsonschema>=4.18.0->jupyterlab-server<3,>=2.27.1->jupyterlab->jupyter) (24.2.0)\n",
      "Requirement already satisfied: jsonschema-specifications>=2023.03.6 in c:\\users\\arturo clemente\\appdata\\roaming\\python\\python312\\site-packages (from jsonschema>=4.18.0->jupyterlab-server<3,>=2.27.1->jupyterlab->jupyter) (2024.10.1)\n",
      "Requirement already satisfied: referencing>=0.28.4 in c:\\users\\arturo clemente\\appdata\\roaming\\python\\python312\\site-packages (from jsonschema>=4.18.0->jupyterlab-server<3,>=2.27.1->jupyterlab->jupyter) (0.35.1)\n",
      "Requirement already satisfied: rpds-py>=0.7.1 in c:\\users\\arturo clemente\\appdata\\roaming\\python\\python312\\site-packages (from jsonschema>=4.18.0->jupyterlab-server<3,>=2.27.1->jupyterlab->jupyter) (0.20.1)\n",
      "Requirement already satisfied: python-json-logger>=2.0.4 in c:\\users\\arturo clemente\\appdata\\roaming\\python\\python312\\site-packages (from jupyter-events>=0.9.0->jupyter-server<3,>=2.4.0->jupyterlab->jupyter) (2.0.7)\n",
      "Requirement already satisfied: pyyaml>=5.3 in c:\\users\\arturo clemente\\appdata\\roaming\\python\\python312\\site-packages (from jupyter-events>=0.9.0->jupyter-server<3,>=2.4.0->jupyterlab->jupyter) (6.0.2)\n",
      "Requirement already satisfied: rfc3339-validator in c:\\users\\arturo clemente\\appdata\\roaming\\python\\python312\\site-packages (from jupyter-events>=0.9.0->jupyter-server<3,>=2.4.0->jupyterlab->jupyter) (0.1.4)\n",
      "Requirement already satisfied: rfc3986-validator>=0.1.1 in c:\\users\\arturo clemente\\appdata\\roaming\\python\\python312\\site-packages (from jupyter-events>=0.9.0->jupyter-server<3,>=2.4.0->jupyterlab->jupyter) (0.1.1)\n",
      "Requirement already satisfied: charset-normalizer<4,>=2 in c:\\users\\arturo clemente\\appdata\\roaming\\python\\python312\\site-packages (from requests>=2.31->jupyterlab-server<3,>=2.27.1->jupyterlab->jupyter) (3.4.0)\n",
      "Requirement already satisfied: urllib3<3,>=1.21.1 in c:\\users\\arturo clemente\\appdata\\roaming\\python\\python312\\site-packages (from requests>=2.31->jupyterlab-server<3,>=2.27.1->jupyterlab->jupyter) (2.2.3)\n",
      "Requirement already satisfied: executing>=1.2.0 in c:\\users\\arturo clemente\\appdata\\roaming\\python\\python312\\site-packages (from stack-data->ipython>=7.23.1->ipykernel->jupyter) (2.1.0)\n",
      "Requirement already satisfied: asttokens>=2.1.0 in c:\\users\\arturo clemente\\appdata\\roaming\\python\\python312\\site-packages (from stack-data->ipython>=7.23.1->ipykernel->jupyter) (2.4.1)\n",
      "Requirement already satisfied: pure-eval in c:\\users\\arturo clemente\\appdata\\roaming\\python\\python312\\site-packages (from stack-data->ipython>=7.23.1->ipykernel->jupyter) (0.2.3)\n",
      "Requirement already satisfied: fqdn in c:\\users\\arturo clemente\\appdata\\roaming\\python\\python312\\site-packages (from jsonschema[format-nongpl]>=4.18.0->jupyter-events>=0.9.0->jupyter-server<3,>=2.4.0->jupyterlab->jupyter) (1.5.1)\n",
      "Requirement already satisfied: isoduration in c:\\users\\arturo clemente\\appdata\\roaming\\python\\python312\\site-packages (from jsonschema[format-nongpl]>=4.18.0->jupyter-events>=0.9.0->jupyter-server<3,>=2.4.0->jupyterlab->jupyter) (20.11.0)\n",
      "Requirement already satisfied: jsonpointer>1.13 in c:\\users\\arturo clemente\\appdata\\roaming\\python\\python312\\site-packages (from jsonschema[format-nongpl]>=4.18.0->jupyter-events>=0.9.0->jupyter-server<3,>=2.4.0->jupyterlab->jupyter) (3.0.0)\n",
      "Requirement already satisfied: uri-template in c:\\users\\arturo clemente\\appdata\\roaming\\python\\python312\\site-packages (from jsonschema[format-nongpl]>=4.18.0->jupyter-events>=0.9.0->jupyter-server<3,>=2.4.0->jupyterlab->jupyter) (1.3.0)\n",
      "Requirement already satisfied: webcolors>=24.6.0 in c:\\users\\arturo clemente\\appdata\\roaming\\python\\python312\\site-packages (from jsonschema[format-nongpl]>=4.18.0->jupyter-events>=0.9.0->jupyter-server<3,>=2.4.0->jupyterlab->jupyter) (24.8.0)\n",
      "Requirement already satisfied: cffi>=1.0.1 in c:\\users\\arturo clemente\\appdata\\roaming\\python\\python312\\site-packages (from argon2-cffi-bindings->argon2-cffi>=21.1->jupyter-server<3,>=2.4.0->jupyterlab->jupyter) (1.17.1)\n",
      "Requirement already satisfied: pycparser in c:\\users\\arturo clemente\\appdata\\roaming\\python\\python312\\site-packages (from cffi>=1.0.1->argon2-cffi-bindings->argon2-cffi>=21.1->jupyter-server<3,>=2.4.0->jupyterlab->jupyter) (2.22)\n",
      "Requirement already satisfied: arrow>=0.15.0 in c:\\users\\arturo clemente\\appdata\\roaming\\python\\python312\\site-packages (from isoduration->jsonschema[format-nongpl]>=4.18.0->jupyter-events>=0.9.0->jupyter-server<3,>=2.4.0->jupyterlab->jupyter) (1.3.0)\n",
      "Requirement already satisfied: types-python-dateutil>=2.8.10 in c:\\users\\arturo clemente\\appdata\\roaming\\python\\python312\\site-packages (from arrow>=0.15.0->isoduration->jsonschema[format-nongpl]>=4.18.0->jupyter-events>=0.9.0->jupyter-server<3,>=2.4.0->jupyterlab->jupyter) (2.9.0.20241003)\n"
     ]
    }
   ],
   "source": [
    "#Esto se realizó para poder instalar este kernel en jupyter lab\n",
    "! pip install jupyter lab"
   ]
  },
  {
   "cell_type": "code",
   "execution_count": null,
   "id": "6ba54649",
   "metadata": {},
   "outputs": [
    {
     "name": "stdout",
     "output_type": "stream",
     "text": [
      "Defaulting to user installation because normal site-packages is not writeable\n",
      "Requirement already satisfied: ipykernel in c:\\users\\arturo clemente\\appdata\\roaming\\python\\python312\\site-packages (6.29.5)\n",
      "Requirement already satisfied: comm>=0.1.1 in c:\\users\\arturo clemente\\appdata\\roaming\\python\\python312\\site-packages (from ipykernel) (0.2.2)\n",
      "Requirement already satisfied: debugpy>=1.6.5 in c:\\users\\arturo clemente\\appdata\\roaming\\python\\python312\\site-packages (from ipykernel) (1.8.7)\n",
      "Requirement already satisfied: ipython>=7.23.1 in c:\\users\\arturo clemente\\appdata\\roaming\\python\\python312\\site-packages (from ipykernel) (8.29.0)\n",
      "Requirement already satisfied: jupyter-client>=6.1.12 in c:\\users\\arturo clemente\\appdata\\roaming\\python\\python312\\site-packages (from ipykernel) (8.6.3)\n",
      "Requirement already satisfied: jupyter-core!=5.0.*,>=4.12 in c:\\users\\arturo clemente\\appdata\\roaming\\python\\python312\\site-packages (from ipykernel) (5.7.2)\n",
      "Requirement already satisfied: matplotlib-inline>=0.1 in c:\\users\\arturo clemente\\appdata\\roaming\\python\\python312\\site-packages (from ipykernel) (0.1.7)\n",
      "Requirement already satisfied: nest-asyncio in c:\\users\\arturo clemente\\appdata\\roaming\\python\\python312\\site-packages (from ipykernel) (1.6.0)\n",
      "Requirement already satisfied: packaging in c:\\users\\arturo clemente\\appdata\\roaming\\python\\python312\\site-packages (from ipykernel) (24.1)\n",
      "Requirement already satisfied: psutil in c:\\users\\arturo clemente\\appdata\\roaming\\python\\python312\\site-packages (from ipykernel) (6.1.0)\n",
      "Requirement already satisfied: pyzmq>=24 in c:\\users\\arturo clemente\\appdata\\roaming\\python\\python312\\site-packages (from ipykernel) (26.2.0)\n",
      "Requirement already satisfied: tornado>=6.1 in c:\\users\\arturo clemente\\appdata\\roaming\\python\\python312\\site-packages (from ipykernel) (6.4.1)\n",
      "Requirement already satisfied: traitlets>=5.4.0 in c:\\users\\arturo clemente\\appdata\\roaming\\python\\python312\\site-packages (from ipykernel) (5.14.3)\n",
      "Requirement already satisfied: decorator in c:\\users\\arturo clemente\\appdata\\roaming\\python\\python312\\site-packages (from ipython>=7.23.1->ipykernel) (5.1.1)\n",
      "Requirement already satisfied: jedi>=0.16 in c:\\users\\arturo clemente\\appdata\\roaming\\python\\python312\\site-packages (from ipython>=7.23.1->ipykernel) (0.19.1)\n",
      "Requirement already satisfied: prompt-toolkit<3.1.0,>=3.0.41 in c:\\users\\arturo clemente\\appdata\\roaming\\python\\python312\\site-packages (from ipython>=7.23.1->ipykernel) (3.0.48)\n",
      "Requirement already satisfied: pygments>=2.4.0 in c:\\users\\arturo clemente\\appdata\\roaming\\python\\python312\\site-packages (from ipython>=7.23.1->ipykernel) (2.18.0)\n",
      "Requirement already satisfied: stack-data in c:\\users\\arturo clemente\\appdata\\roaming\\python\\python312\\site-packages (from ipython>=7.23.1->ipykernel) (0.6.3)\n",
      "Requirement already satisfied: colorama in c:\\users\\arturo clemente\\appdata\\roaming\\python\\python312\\site-packages (from ipython>=7.23.1->ipykernel) (0.4.6)\n",
      "Requirement already satisfied: python-dateutil>=2.8.2 in c:\\users\\arturo clemente\\appdata\\roaming\\python\\python312\\site-packages (from jupyter-client>=6.1.12->ipykernel) (2.9.0.post0)\n",
      "Requirement already satisfied: platformdirs>=2.5 in c:\\users\\arturo clemente\\appdata\\roaming\\python\\python312\\site-packages (from jupyter-core!=5.0.*,>=4.12->ipykernel) (4.3.6)\n",
      "Requirement already satisfied: pywin32>=300 in c:\\users\\arturo clemente\\appdata\\roaming\\python\\python312\\site-packages (from jupyter-core!=5.0.*,>=4.12->ipykernel) (308)\n",
      "Requirement already satisfied: parso<0.9.0,>=0.8.3 in c:\\users\\arturo clemente\\appdata\\roaming\\python\\python312\\site-packages (from jedi>=0.16->ipython>=7.23.1->ipykernel) (0.8.4)\n",
      "Requirement already satisfied: wcwidth in c:\\users\\arturo clemente\\appdata\\roaming\\python\\python312\\site-packages (from prompt-toolkit<3.1.0,>=3.0.41->ipython>=7.23.1->ipykernel) (0.2.13)\n",
      "Requirement already satisfied: six>=1.5 in c:\\users\\arturo clemente\\appdata\\roaming\\python\\python312\\site-packages (from python-dateutil>=2.8.2->jupyter-client>=6.1.12->ipykernel) (1.16.0)\n",
      "Requirement already satisfied: executing>=1.2.0 in c:\\users\\arturo clemente\\appdata\\roaming\\python\\python312\\site-packages (from stack-data->ipython>=7.23.1->ipykernel) (2.1.0)\n",
      "Requirement already satisfied: asttokens>=2.1.0 in c:\\users\\arturo clemente\\appdata\\roaming\\python\\python312\\site-packages (from stack-data->ipython>=7.23.1->ipykernel) (2.4.1)\n",
      "Requirement already satisfied: pure-eval in c:\\users\\arturo clemente\\appdata\\roaming\\python\\python312\\site-packages (from stack-data->ipython>=7.23.1->ipykernel) (0.2.3)\n",
      "Installed kernelspec python312 in C:\\Users\\Arturo Clemente\\AppData\\Roaming\\jupyter\\kernels\\python312\n"
     ]
    }
   ],
   "source": [
    "#Aunque no fuera necesario, ahora si se instala el kernel a través de este ambiente y se nombra, ahora si se mostrará en JupLab\n",
    "! pip install ipykernel\n",
    "! python -m ipykernel install --user --name python312 --display-name \"Python312\""
   ]
  }
 ],
 "metadata": {
  "kernelspec": {
   "display_name": "Python 3",
   "language": "python",
   "name": "python3"
  },
  "language_info": {
   "codemirror_mode": {
    "name": "ipython",
    "version": 3
   },
   "file_extension": ".py",
   "mimetype": "text/x-python",
   "name": "python",
   "nbconvert_exporter": "python",
   "pygments_lexer": "ipython3",
   "version": "3.12.6"
  }
 },
 "nbformat": 4,
 "nbformat_minor": 5
}
