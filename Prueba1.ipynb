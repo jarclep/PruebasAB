{
 "cells": [
  {
   "cell_type": "code",
   "execution_count": null,
   "id": "d9a34457-9b5f-41fe-9ac8-66fde2dfbbb6",
   "metadata": {
    "tags": []
   },
   "outputs": [],
   "source": [
    "print('Holi')"
   ]
  },
  {
   "cell_type": "code",
   "execution_count": null,
   "id": "dd0479e4-12c6-4c53-a95c-cdc25838df9a",
   "metadata": {
    "tags": []
   },
   "outputs": [],
   "source": [
    "! pip3 install apache_beam"
   ]
  },
  {
   "cell_type": "code",
   "execution_count": null,
   "id": "1f969c9e",
   "metadata": {},
   "outputs": [],
   "source": [
    "! pip3 install pandas"
   ]
  },
  {
   "cell_type": "code",
   "execution_count": null,
   "id": "2597ccdd",
   "metadata": {},
   "outputs": [],
   "source": [
    "import sys\n",
    "print(sys.executable)"
   ]
  },
  {
   "cell_type": "code",
   "execution_count": null,
   "id": "7d3567b2",
   "metadata": {},
   "outputs": [],
   "source": [
    "#Esto se realizó para poder instalar este kernel en jupyter lab\n",
    "! pip install jupyter lab"
   ]
  },
  {
   "cell_type": "code",
   "execution_count": null,
   "id": "6ba54649",
   "metadata": {},
   "outputs": [],
   "source": [
    "#Aunque no fuera necesario, ahora si se instala el kernel a través de este ambiente y se nombra, ahora si se mostrará en JupLab\n",
    "! pip install ipykernel\n",
    "! python -m ipykernel install --user --name python312 --display-name \"Python312\""
   ]
  },
  {
   "cell_type": "code",
   "execution_count": 1,
   "id": "4ebeb477-5e0a-4cec-9b91-a09e33fbacc2",
   "metadata": {
    "tags": []
   },
   "outputs": [
    {
     "name": "stderr",
     "output_type": "stream",
     "text": [
      "WARNING:apache_beam.runners.interactive.interactive_environment:Dependencies required for Interactive Beam PCollection visualization are not available, please use: `pip install apache-beam[interactive]` to install necessary dependencies to enable all data visualization features.\n"
     ]
    },
    {
     "data": {
      "application/javascript": "\n        if (typeof window.interactive_beam_jquery == 'undefined') {\n          var jqueryScript = document.createElement('script');\n          jqueryScript.src = 'https://code.jquery.com/jquery-3.4.1.slim.min.js';\n          jqueryScript.type = 'text/javascript';\n          jqueryScript.onload = function() {\n            var datatableScript = document.createElement('script');\n            datatableScript.src = 'https://cdn.datatables.net/1.10.20/js/jquery.dataTables.min.js';\n            datatableScript.type = 'text/javascript';\n            datatableScript.onload = function() {\n              window.interactive_beam_jquery = jQuery.noConflict(true);\n              window.interactive_beam_jquery(document).ready(function($){\n                \n              });\n            }\n            document.head.appendChild(datatableScript);\n          };\n          document.head.appendChild(jqueryScript);\n        } else {\n          window.interactive_beam_jquery(document).ready(function($){\n            \n          });\n        }"
     },
     "metadata": {},
     "output_type": "display_data"
    },
    {
     "data": {
      "text/plain": [
       "<apache_beam.runners.portability.fn_api_runner.fn_runner.RunnerResult at 0x2329124e810>"
      ]
     },
     "execution_count": 1,
     "metadata": {},
     "output_type": "execute_result"
    }
   ],
   "source": [
    "import apache_beam as beam\n",
    "#Una vez instalado numpy, no es necesario importarlo\n",
    "p1 = beam.Pipeline()\n",
    "movie_gt_4 = (\n",
    "    p1\n",
    "    | beam.io.ReadFromText('movies_rating.txt',skip_header_lines=1) #Reading from movie_rating & skipping the first line\n",
    "    | beam.Map(lambda record: record.split(',')) #splitting the records by comma\n",
    "    | beam.Filter(lambda record: float(record[2]) > 3.5) #getting only those movies who has rating greater than 4\n",
    "    | beam.io.WriteToText('result.txt') #writing the result back to some storage\n",
    ")\n",
    "p1.run()\n"
   ]
  },
  {
   "cell_type": "code",
   "execution_count": 8,
   "id": "ecfbe18d-f7bd-4a07-b080-e7ab52718b4c",
   "metadata": {},
   "outputs": [
    {
     "name": "stdout",
     "output_type": "stream",
     "text": [
      "Defaulting to user installation because normal site-packages is not writeable\n",
      "Collecting pyodbc\n",
      "  Downloading pyodbc-5.2.0-cp312-cp312-win_amd64.whl.metadata (2.8 kB)\n",
      "Downloading pyodbc-5.2.0-cp312-cp312-win_amd64.whl (69 kB)\n",
      "Installing collected packages: pyodbc\n",
      "Successfully installed pyodbc-5.2.0\n"
     ]
    }
   ],
   "source": [
    "! pip install pyodbc"
   ]
  },
  {
   "cell_type": "code",
   "execution_count": 10,
   "id": "5abb7b3d-8e03-4404-99f6-503b7f7a6391",
   "metadata": {},
   "outputs": [
    {
     "name": "stdout",
     "output_type": "stream",
     "text": [
      "Conexión exitosa\n"
     ]
    }
   ],
   "source": [
    "import pyodbc\n",
    "\n",
    "# Configura los datos de conexión\n",
    "server = 'localhost'  # O simplemente 'localhost' si es local\n",
    "database = 'ControlTiendas'\n",
    "username = 'sqlserver'\n",
    "password = 'P4$$w0rd'\n",
    "\n",
    "# Configura la cadena de conexión usando pyodbc\n",
    "conn_str = f'DRIVER={{ODBC Driver 17 for SQL Server}};SERVER={server};DATABASE={database};UID={username};PWD={password}'\n",
    "\n",
    "# Realiza la conexión\n",
    "try:\n",
    "    conn = pyodbc.connect(conn_str)\n",
    "    print(\"Conexión exitosa\")\n",
    "except Exception as e:\n",
    "    print(\"Error al conectar:\", e)\n",
    "finally:\n",
    "    conn.close()\n"
   ]
  },
  {
   "cell_type": "code",
   "execution_count": 8,
   "id": "7f0eff48",
   "metadata": {},
   "outputs": [
    {
     "name": "stderr",
     "output_type": "stream",
     "text": [
      "usage: ipykernel_launcher.py [-h] [--dataflow_endpoint DATAFLOW_ENDPOINT]\n",
      "                             [--project PROJECT] [--job_name JOB_NAME]\n",
      "                             [--staging_location STAGING_LOCATION]\n",
      "                             [--temp_location TEMP_LOCATION] [--region REGION]\n",
      "                             [--service_account_email SERVICE_ACCOUNT_EMAIL]\n",
      "                             [--no_auth]\n",
      "                             [--template_location TEMPLATE_LOCATION]\n",
      "                             [--label LABELS] [--update]\n",
      "                             [--transform_name_mapping TRANSFORM_NAME_MAPPING]\n",
      "                             [--enable_streaming_engine]\n",
      "                             [--dataflow_kms_key DATAFLOW_KMS_KEY]\n",
      "                             [--create_from_snapshot CREATE_FROM_SNAPSHOT]\n",
      "                             [--flexrs_goal {COST_OPTIMIZED,SPEED_OPTIMIZED}]\n",
      "                             [--dataflow_service_option DATAFLOW_SERVICE_OPTIONS]\n",
      "                             [--enable_hot_key_logging]\n",
      "                             [--enable_artifact_caching]\n",
      "                             [--impersonate_service_account IMPERSONATE_SERVICE_ACCOUNT]\n",
      "                             [--gcp_oauth_scope GCP_OAUTH_SCOPES]\n",
      "                             [--enable_bucket_read_metric_counter]\n",
      "                             [--enable_bucket_write_metric_counter]\n",
      "                             [--no_gcsio_throttling_counter]\n",
      "                             [--enable_gcsio_blob_generation]\n",
      "ipykernel_launcher.py: error: argument --flexrs_goal: invalid choice: '\"c:\\\\Users\\\\Arturo Clemente\\\\AppData\\\\Roaming\\\\jupyter\\\\runtime\\\\kernel-v39afd57ab347e522e8e46dabf07f0ef3f3f87ee68.json\"' (choose from 'COST_OPTIMIZED', 'SPEED_OPTIMIZED')\n"
     ]
    },
    {
     "ename": "SystemExit",
     "evalue": "2",
     "output_type": "error",
     "traceback": [
      "An exception has occurred, use %tb to see the full traceback.\n",
      "\u001b[1;31mSystemExit\u001b[0m\u001b[1;31m:\u001b[0m 2\n"
     ]
    },
    {
     "name": "stderr",
     "output_type": "stream",
     "text": [
      "C:\\Users\\Arturo Clemente\\AppData\\Roaming\\Python\\Python312\\site-packages\\IPython\\core\\interactiveshell.py:3585: UserWarning: To exit: use 'exit', 'quit', or Ctrl-D.\n",
      "  warn(\"To exit: use 'exit', 'quit', or Ctrl-D.\", stacklevel=1)\n"
     ]
    }
   ],
   "source": [
    "#Esto sólo correrá si es llamada la función desde shell\n",
    "import apache_beam as beam\n",
    "from apache_beam.io.jdbc import ReadFromJdbc, WriteToJdbc\n",
    "#from apache_beam import typehints, coders, Row\n",
    "from apache_beam.options.pipeline_options import PipelineOptions\n",
    "\n",
    "\n",
    "def run():\n",
    "\n",
    "    pipeline_options = PipelineOptions()\n",
    "\n",
    "    query_top10 = \"SELECT TOP(10) NumeroTienda FROM tiendas\"\n",
    "\n",
    "    # Ejecuta el pipeline\n",
    "    with beam.Pipeline(options=pipeline_options) as p:\n",
    "        result = (\n",
    "            p\n",
    "            | 'Leer desde JDBC' >> ReadFromJdbc(\n",
    "                table_name='products',\n",
    "                driver_class_name='com.microsoft.sqlserver.jdbc.SQLServerDriver',\n",
    "                jdbc_url='jdbc:sqlserver://localhost:1433;databaseName=ControlTiendas;encrypt=false',\n",
    "                username='sqlserver',\n",
    "                password='P4$$w0rd',\n",
    "                # Puedes agregar otras opciones si es necesario, como el esquema\n",
    "                query=query_top10\n",
    "            )\n",
    "            | 'Map para ver' >> beam.Map(lambda e: e)\n",
    "            | 'Ver en txt' >> beam.io.WriteToText('SQLtotext.txt')\n",
    "        )\n",
    "\n",
    "if __name__ == '__main__':\n",
    "    run()"
   ]
  },
  {
   "cell_type": "code",
   "execution_count": null,
   "id": "04de8e3e",
   "metadata": {},
   "outputs": [
    {
     "ename": "OSError",
     "evalue": "[WinError 1314] El cliente no dispone de un privilegio requerido: 'C:\\\\Users\\\\Arturo Clemente\\\\.apache_beam\\\\cache\\\\jars\\\\beam-sdks-java-extensions-schemaio-expansion-service-2.60.0.jar' -> 'C:\\\\Users\\\\Arturo Clemente/.apache_beam/cache/jars\\\\composite-jars\\\\a4b8fdd372a63c1dcf67153e98bfdd26737fb44a3f753af564413705e58a3fc9.jar'",
     "output_type": "error",
     "traceback": [
      "\u001b[1;31m---------------------------------------------------------------------------\u001b[0m",
      "\u001b[1;31mOSError\u001b[0m                                   Traceback (most recent call last)",
      "Cell \u001b[1;32mIn[9], line 11\u001b[0m\n\u001b[0;32m      7\u001b[0m query_top10 \u001b[38;5;241m=\u001b[39m \u001b[38;5;124m\"\u001b[39m\u001b[38;5;124mSELECT TOP(10) NumeroTienda FROM tiendas\u001b[39m\u001b[38;5;124m\"\u001b[39m\n\u001b[0;32m      9\u001b[0m p2 \u001b[38;5;241m=\u001b[39m beam\u001b[38;5;241m.\u001b[39mPipeline()\n\u001b[0;32m     10\u001b[0m test_sqlserver \u001b[38;5;241m=\u001b[39m (\n\u001b[1;32m---> 11\u001b[0m     \u001b[43mp2\u001b[49m\n\u001b[0;32m     12\u001b[0m \u001b[43m    \u001b[49m\u001b[38;5;241;43m|\u001b[39;49m\u001b[43m \u001b[49m\u001b[38;5;124;43m'\u001b[39;49m\u001b[38;5;124;43mLeer desde JDBC\u001b[39;49m\u001b[38;5;124;43m'\u001b[39;49m\u001b[43m \u001b[49m\u001b[38;5;241;43m>>\u001b[39;49m\u001b[43m \u001b[49m\u001b[43mReadFromJdbc\u001b[49m\u001b[43m(\u001b[49m\n\u001b[0;32m     13\u001b[0m \u001b[43m                \u001b[49m\u001b[43mtable_name\u001b[49m\u001b[38;5;241;43m=\u001b[39;49m\u001b[38;5;124;43m'\u001b[39;49m\u001b[38;5;124;43mproducts\u001b[39;49m\u001b[38;5;124;43m'\u001b[39;49m\u001b[43m,\u001b[49m\n\u001b[0;32m     14\u001b[0m \u001b[43m                \u001b[49m\u001b[43mdriver_class_name\u001b[49m\u001b[38;5;241;43m=\u001b[39;49m\u001b[38;5;124;43m'\u001b[39;49m\u001b[38;5;124;43mcom.microsoft.sqlserver.jdbc.SQLServerDriver\u001b[39;49m\u001b[38;5;124;43m'\u001b[39;49m\u001b[43m,\u001b[49m\n\u001b[0;32m     15\u001b[0m \u001b[43m                \u001b[49m\u001b[43mjdbc_url\u001b[49m\u001b[38;5;241;43m=\u001b[39;49m\u001b[38;5;124;43m'\u001b[39;49m\u001b[38;5;124;43mjdbc:sqlserver://localhost:1433;databaseName=ControlTiendas;encrypt=false\u001b[39;49m\u001b[38;5;124;43m'\u001b[39;49m\u001b[43m,\u001b[49m\n\u001b[0;32m     16\u001b[0m \u001b[43m                \u001b[49m\u001b[43musername\u001b[49m\u001b[38;5;241;43m=\u001b[39;49m\u001b[38;5;124;43m'\u001b[39;49m\u001b[38;5;124;43msqlserver\u001b[39;49m\u001b[38;5;124;43m'\u001b[39;49m\u001b[43m,\u001b[49m\n\u001b[0;32m     17\u001b[0m \u001b[43m                \u001b[49m\u001b[43mpassword\u001b[49m\u001b[38;5;241;43m=\u001b[39;49m\u001b[38;5;124;43m'\u001b[39;49m\u001b[38;5;124;43mP4$$w0rd\u001b[39;49m\u001b[38;5;124;43m'\u001b[39;49m\u001b[43m,\u001b[49m\n\u001b[0;32m     18\u001b[0m \u001b[43m                \u001b[49m\u001b[38;5;66;43;03m# Puedes agregar otras opciones si es necesario, como el esquema\u001b[39;49;00m\n\u001b[0;32m     19\u001b[0m \u001b[43m                \u001b[49m\u001b[43mquery\u001b[49m\u001b[38;5;241;43m=\u001b[39;49m\u001b[43mquery_top10\u001b[49m\n\u001b[0;32m     20\u001b[0m \u001b[43m            \u001b[49m\u001b[43m)\u001b[49m\n\u001b[0;32m     21\u001b[0m     \u001b[38;5;241m|\u001b[39m \u001b[38;5;124m'\u001b[39m\u001b[38;5;124mMap para ver\u001b[39m\u001b[38;5;124m'\u001b[39m \u001b[38;5;241m>>\u001b[39m beam\u001b[38;5;241m.\u001b[39mMap(\u001b[38;5;28;01mlambda\u001b[39;00m e: e)\n\u001b[0;32m     22\u001b[0m     \u001b[38;5;241m|\u001b[39m \u001b[38;5;124m'\u001b[39m\u001b[38;5;124mVer en txt\u001b[39m\u001b[38;5;124m'\u001b[39m \u001b[38;5;241m>>\u001b[39m beam\u001b[38;5;241m.\u001b[39mio\u001b[38;5;241m.\u001b[39mWriteToText(\u001b[38;5;124m'\u001b[39m\u001b[38;5;124mSQLtotext.txt\u001b[39m\u001b[38;5;124m'\u001b[39m)\n\u001b[0;32m     23\u001b[0m )\n\u001b[0;32m     24\u001b[0m p1\u001b[38;5;241m.\u001b[39mrun()\n",
      "File \u001b[1;32m~\\AppData\\Roaming\\Python\\Python312\\site-packages\\apache_beam\\transforms\\ptransform.py:1110\u001b[0m, in \u001b[0;36m_NamedPTransform.__ror__\u001b[1;34m(self, pvalueish, _unused)\u001b[0m\n\u001b[0;32m   1109\u001b[0m \u001b[38;5;28;01mdef\u001b[39;00m \u001b[38;5;21m__ror__\u001b[39m(\u001b[38;5;28mself\u001b[39m, pvalueish, _unused\u001b[38;5;241m=\u001b[39m\u001b[38;5;28;01mNone\u001b[39;00m):\n\u001b[1;32m-> 1110\u001b[0m   \u001b[38;5;28;01mreturn\u001b[39;00m \u001b[38;5;28;43mself\u001b[39;49m\u001b[38;5;241;43m.\u001b[39;49m\u001b[43mtransform\u001b[49m\u001b[38;5;241;43m.\u001b[39;49m\u001b[38;5;21;43m__ror__\u001b[39;49m\u001b[43m(\u001b[49m\u001b[43mpvalueish\u001b[49m\u001b[43m,\u001b[49m\u001b[43m \u001b[49m\u001b[38;5;28;43mself\u001b[39;49m\u001b[38;5;241;43m.\u001b[39;49m\u001b[43mlabel\u001b[49m\u001b[43m)\u001b[49m\n",
      "File \u001b[1;32m~\\AppData\\Roaming\\Python\\Python312\\site-packages\\apache_beam\\transforms\\ptransform.py:623\u001b[0m, in \u001b[0;36mPTransform.__ror__\u001b[1;34m(self, left, label)\u001b[0m\n\u001b[0;32m    621\u001b[0m pvalueish \u001b[38;5;241m=\u001b[39m _SetInputPValues()\u001b[38;5;241m.\u001b[39mvisit(pvalueish, replacements)\n\u001b[0;32m    622\u001b[0m \u001b[38;5;28mself\u001b[39m\u001b[38;5;241m.\u001b[39mpipeline \u001b[38;5;241m=\u001b[39m p\n\u001b[1;32m--> 623\u001b[0m result \u001b[38;5;241m=\u001b[39m \u001b[43mp\u001b[49m\u001b[38;5;241;43m.\u001b[39;49m\u001b[43mapply\u001b[49m\u001b[43m(\u001b[49m\u001b[38;5;28;43mself\u001b[39;49m\u001b[43m,\u001b[49m\u001b[43m \u001b[49m\u001b[43mpvalueish\u001b[49m\u001b[43m,\u001b[49m\u001b[43m \u001b[49m\u001b[43mlabel\u001b[49m\u001b[43m)\u001b[49m\n\u001b[0;32m    624\u001b[0m \u001b[38;5;28;01mif\u001b[39;00m deferred:\n\u001b[0;32m    625\u001b[0m   \u001b[38;5;28;01mreturn\u001b[39;00m result\n",
      "File \u001b[1;32m~\\AppData\\Roaming\\Python\\Python312\\site-packages\\apache_beam\\pipeline.py:692\u001b[0m, in \u001b[0;36mPipeline.apply\u001b[1;34m(self, transform, pvalueish, label)\u001b[0m\n\u001b[0;32m    690\u001b[0m old_label, transform\u001b[38;5;241m.\u001b[39mlabel \u001b[38;5;241m=\u001b[39m transform\u001b[38;5;241m.\u001b[39mlabel, label\n\u001b[0;32m    691\u001b[0m \u001b[38;5;28;01mtry\u001b[39;00m:\n\u001b[1;32m--> 692\u001b[0m   \u001b[38;5;28;01mreturn\u001b[39;00m \u001b[38;5;28;43mself\u001b[39;49m\u001b[38;5;241;43m.\u001b[39;49m\u001b[43mapply\u001b[49m\u001b[43m(\u001b[49m\u001b[43mtransform\u001b[49m\u001b[43m,\u001b[49m\u001b[43m \u001b[49m\u001b[43mpvalueish\u001b[49m\u001b[43m)\u001b[49m\n\u001b[0;32m    693\u001b[0m \u001b[38;5;28;01mfinally\u001b[39;00m:\n\u001b[0;32m    694\u001b[0m   transform\u001b[38;5;241m.\u001b[39mlabel \u001b[38;5;241m=\u001b[39m old_label\n",
      "File \u001b[1;32m~\\AppData\\Roaming\\Python\\Python312\\site-packages\\apache_beam\\pipeline.py:754\u001b[0m, in \u001b[0;36mPipeline.apply\u001b[1;34m(self, transform, pvalueish, label)\u001b[0m\n\u001b[0;32m    751\u001b[0m \u001b[38;5;28;01mif\u001b[39;00m type_options\u001b[38;5;241m.\u001b[39mpipeline_type_check:\n\u001b[0;32m    752\u001b[0m   transform\u001b[38;5;241m.\u001b[39mtype_check_inputs(pvalueish)\n\u001b[1;32m--> 754\u001b[0m pvalueish_result \u001b[38;5;241m=\u001b[39m \u001b[38;5;28;43mself\u001b[39;49m\u001b[38;5;241;43m.\u001b[39;49m\u001b[43mrunner\u001b[49m\u001b[38;5;241;43m.\u001b[39;49m\u001b[43mapply\u001b[49m\u001b[43m(\u001b[49m\u001b[43mtransform\u001b[49m\u001b[43m,\u001b[49m\u001b[43m \u001b[49m\u001b[43mpvalueish\u001b[49m\u001b[43m,\u001b[49m\u001b[43m \u001b[49m\u001b[38;5;28;43mself\u001b[39;49m\u001b[38;5;241;43m.\u001b[39;49m\u001b[43m_options\u001b[49m\u001b[43m)\u001b[49m\n\u001b[0;32m    756\u001b[0m \u001b[38;5;28;01mif\u001b[39;00m type_options \u001b[38;5;129;01mis\u001b[39;00m \u001b[38;5;129;01mnot\u001b[39;00m \u001b[38;5;28;01mNone\u001b[39;00m \u001b[38;5;129;01mand\u001b[39;00m type_options\u001b[38;5;241m.\u001b[39mpipeline_type_check:\n\u001b[0;32m    757\u001b[0m   transform\u001b[38;5;241m.\u001b[39mtype_check_outputs(pvalueish_result)\n",
      "File \u001b[1;32m~\\AppData\\Roaming\\Python\\Python312\\site-packages\\apache_beam\\runners\\runner.py:191\u001b[0m, in \u001b[0;36mPipelineRunner.apply\u001b[1;34m(self, transform, input, options)\u001b[0m\n\u001b[0;32m    185\u001b[0m \u001b[38;5;28;01mdef\u001b[39;00m \u001b[38;5;21mapply\u001b[39m(\n\u001b[0;32m    186\u001b[0m     \u001b[38;5;28mself\u001b[39m,\n\u001b[0;32m    187\u001b[0m     transform: \u001b[38;5;124m'\u001b[39m\u001b[38;5;124mPTransform\u001b[39m\u001b[38;5;124m'\u001b[39m,\n\u001b[0;32m    188\u001b[0m     \u001b[38;5;28minput\u001b[39m: Optional[\u001b[38;5;124m'\u001b[39m\u001b[38;5;124mpvalue.PValue\u001b[39m\u001b[38;5;124m'\u001b[39m],\n\u001b[0;32m    189\u001b[0m     options: PipelineOptions):\n\u001b[0;32m    190\u001b[0m   \u001b[38;5;66;03m# TODO(robertwb): Remove indirection once internal references are fixed.\u001b[39;00m\n\u001b[1;32m--> 191\u001b[0m   \u001b[38;5;28;01mreturn\u001b[39;00m \u001b[38;5;28;43mself\u001b[39;49m\u001b[38;5;241;43m.\u001b[39;49m\u001b[43mapply_PTransform\u001b[49m\u001b[43m(\u001b[49m\u001b[43mtransform\u001b[49m\u001b[43m,\u001b[49m\u001b[43m \u001b[49m\u001b[38;5;28;43minput\u001b[39;49m\u001b[43m,\u001b[49m\u001b[43m \u001b[49m\u001b[43moptions\u001b[49m\u001b[43m)\u001b[49m\n",
      "File \u001b[1;32m~\\AppData\\Roaming\\Python\\Python312\\site-packages\\apache_beam\\runners\\runner.py:195\u001b[0m, in \u001b[0;36mPipelineRunner.apply_PTransform\u001b[1;34m(self, transform, input, options)\u001b[0m\n\u001b[0;32m    193\u001b[0m \u001b[38;5;28;01mdef\u001b[39;00m \u001b[38;5;21mapply_PTransform\u001b[39m(\u001b[38;5;28mself\u001b[39m, transform, \u001b[38;5;28minput\u001b[39m, options):\n\u001b[0;32m    194\u001b[0m   \u001b[38;5;66;03m# TODO(robertwb): Remove indirection once internal references are fixed.\u001b[39;00m\n\u001b[1;32m--> 195\u001b[0m   \u001b[38;5;28;01mreturn\u001b[39;00m \u001b[43mtransform\u001b[49m\u001b[38;5;241;43m.\u001b[39;49m\u001b[43mexpand\u001b[49m\u001b[43m(\u001b[49m\u001b[38;5;28;43minput\u001b[39;49m\u001b[43m)\u001b[49m\n",
      "File \u001b[1;32m~\\AppData\\Roaming\\Python\\Python312\\site-packages\\apache_beam\\transforms\\external.py:751\u001b[0m, in \u001b[0;36mExternalTransform.expand\u001b[1;34m(self, pvalueish)\u001b[0m\n\u001b[0;32m    741\u001b[0m request \u001b[38;5;241m=\u001b[39m beam_expansion_api_pb2\u001b[38;5;241m.\u001b[39mExpansionRequest(\n\u001b[0;32m    742\u001b[0m     components\u001b[38;5;241m=\u001b[39mcomponents,\n\u001b[0;32m    743\u001b[0m     namespace\u001b[38;5;241m=\u001b[39m\u001b[38;5;28mself\u001b[39m\u001b[38;5;241m.\u001b[39m_external_namespace,\n\u001b[0;32m    744\u001b[0m     transform\u001b[38;5;241m=\u001b[39mtransform_proto,\n\u001b[0;32m    745\u001b[0m     output_coder_requests\u001b[38;5;241m=\u001b[39moutput_coders,\n\u001b[0;32m    746\u001b[0m     pipeline_options\u001b[38;5;241m=\u001b[39mpipeline\u001b[38;5;241m.\u001b[39m_options\u001b[38;5;241m.\u001b[39mto_runner_api())\n\u001b[0;32m    748\u001b[0m expansion_service \u001b[38;5;241m=\u001b[39m _maybe_use_transform_service(\n\u001b[0;32m    749\u001b[0m     \u001b[38;5;28mself\u001b[39m\u001b[38;5;241m.\u001b[39m_expansion_service, pipeline\u001b[38;5;241m.\u001b[39moptions)\n\u001b[1;32m--> 751\u001b[0m \u001b[38;5;28;01mwith\u001b[39;00m ExternalTransform\u001b[38;5;241m.\u001b[39mservice(expansion_service) \u001b[38;5;28;01mas\u001b[39;00m service:\n\u001b[0;32m    752\u001b[0m   response \u001b[38;5;241m=\u001b[39m service\u001b[38;5;241m.\u001b[39mExpand(request)\n\u001b[0;32m    753\u001b[0m   \u001b[38;5;28;01mif\u001b[39;00m response\u001b[38;5;241m.\u001b[39merror:\n",
      "File \u001b[1;32mc:\\Python312\\Lib\\contextlib.py:137\u001b[0m, in \u001b[0;36m_GeneratorContextManager.__enter__\u001b[1;34m(self)\u001b[0m\n\u001b[0;32m    135\u001b[0m \u001b[38;5;28;01mdel\u001b[39;00m \u001b[38;5;28mself\u001b[39m\u001b[38;5;241m.\u001b[39margs, \u001b[38;5;28mself\u001b[39m\u001b[38;5;241m.\u001b[39mkwds, \u001b[38;5;28mself\u001b[39m\u001b[38;5;241m.\u001b[39mfunc\n\u001b[0;32m    136\u001b[0m \u001b[38;5;28;01mtry\u001b[39;00m:\n\u001b[1;32m--> 137\u001b[0m     \u001b[38;5;28;01mreturn\u001b[39;00m \u001b[38;5;28;43mnext\u001b[39;49m\u001b[43m(\u001b[49m\u001b[38;5;28;43mself\u001b[39;49m\u001b[38;5;241;43m.\u001b[39;49m\u001b[43mgen\u001b[49m\u001b[43m)\u001b[49m\n\u001b[0;32m    138\u001b[0m \u001b[38;5;28;01mexcept\u001b[39;00m \u001b[38;5;167;01mStopIteration\u001b[39;00m:\n\u001b[0;32m    139\u001b[0m     \u001b[38;5;28;01mraise\u001b[39;00m \u001b[38;5;167;01mRuntimeError\u001b[39;00m(\u001b[38;5;124m\"\u001b[39m\u001b[38;5;124mgenerator didn\u001b[39m\u001b[38;5;124m'\u001b[39m\u001b[38;5;124mt yield\u001b[39m\u001b[38;5;124m\"\u001b[39m) \u001b[38;5;28;01mfrom\u001b[39;00m \u001b[38;5;28;01mNone\u001b[39;00m\n",
      "File \u001b[1;32m~\\AppData\\Roaming\\Python\\Python312\\site-packages\\apache_beam\\transforms\\external.py:807\u001b[0m, in \u001b[0;36mExternalTransform.service\u001b[1;34m(expansion_service)\u001b[0m\n\u001b[0;32m    805\u001b[0m   \u001b[38;5;28;01myield\u001b[39;00m expansion_service\n\u001b[0;32m    806\u001b[0m \u001b[38;5;28;01melse\u001b[39;00m:\n\u001b[1;32m--> 807\u001b[0m   \u001b[38;5;28;01mwith\u001b[39;00m expansion_service \u001b[38;5;28;01mas\u001b[39;00m stub:\n\u001b[0;32m    808\u001b[0m     \u001b[38;5;28;01myield\u001b[39;00m stub\n",
      "File \u001b[1;32m~\\AppData\\Roaming\\Python\\Python312\\site-packages\\apache_beam\\transforms\\external.py:1028\u001b[0m, in \u001b[0;36mJavaJarExpansionService.__enter__\u001b[1;34m(self)\u001b[0m\n\u001b[0;32m   1018\u001b[0m   logging\u001b[38;5;241m.\u001b[39minfo(\n\u001b[0;32m   1019\u001b[0m       \u001b[38;5;124m'\u001b[39m\u001b[38;5;124mStarting a JAR-based expansion service from JAR \u001b[39m\u001b[38;5;132;01m%s\u001b[39;00m\u001b[38;5;124m \u001b[39m\u001b[38;5;124m'\u001b[39m \u001b[38;5;241m+\u001b[39m (\n\u001b[0;32m   1020\u001b[0m           \u001b[38;5;124m'\u001b[39m\u001b[38;5;124mand with classpath: \u001b[39m\u001b[38;5;132;01m%s\u001b[39;00m\u001b[38;5;124m'\u001b[39m \u001b[38;5;241m%\u001b[39m\n\u001b[0;32m   1021\u001b[0m           \u001b[38;5;28mself\u001b[39m\u001b[38;5;241m.\u001b[39m_classpath \u001b[38;5;28;01mif\u001b[39;00m \u001b[38;5;28mself\u001b[39m\u001b[38;5;241m.\u001b[39m_classpath \u001b[38;5;28;01melse\u001b[39;00m \u001b[38;5;124m'\u001b[39m\u001b[38;5;124m'\u001b[39m),\n\u001b[0;32m   1022\u001b[0m       \u001b[38;5;28mself\u001b[39m\u001b[38;5;241m.\u001b[39m_path_to_jar)\n\u001b[0;32m   1023\u001b[0m   classpath_urls \u001b[38;5;241m=\u001b[39m [\n\u001b[0;32m   1024\u001b[0m       subprocess_server\u001b[38;5;241m.\u001b[39mJavaJarServer\u001b[38;5;241m.\u001b[39mlocal_jar(path)\n\u001b[0;32m   1025\u001b[0m       \u001b[38;5;28;01mfor\u001b[39;00m jar \u001b[38;5;129;01min\u001b[39;00m \u001b[38;5;28mself\u001b[39m\u001b[38;5;241m.\u001b[39m_classpath\n\u001b[0;32m   1026\u001b[0m       \u001b[38;5;28;01mfor\u001b[39;00m path \u001b[38;5;129;01min\u001b[39;00m JavaJarExpansionService\u001b[38;5;241m.\u001b[39m_expand_jars(jar)\n\u001b[0;32m   1027\u001b[0m   ]\n\u001b[1;32m-> 1028\u001b[0m   \u001b[38;5;28mself\u001b[39m\u001b[38;5;241m.\u001b[39m_service_provider \u001b[38;5;241m=\u001b[39m \u001b[43msubprocess_server\u001b[49m\u001b[38;5;241;43m.\u001b[39;49m\u001b[43mJavaJarServer\u001b[49m\u001b[43m(\u001b[49m\n\u001b[0;32m   1029\u001b[0m \u001b[43m      \u001b[49m\u001b[43mExpansionAndArtifactRetrievalStub\u001b[49m\u001b[43m,\u001b[49m\n\u001b[0;32m   1030\u001b[0m \u001b[43m      \u001b[49m\u001b[38;5;28;43mself\u001b[39;49m\u001b[38;5;241;43m.\u001b[39;49m\u001b[43m_path_to_jar\u001b[49m\u001b[43m,\u001b[49m\n\u001b[0;32m   1031\u001b[0m \u001b[43m      \u001b[49m\u001b[38;5;28;43mself\u001b[39;49m\u001b[38;5;241;43m.\u001b[39;49m\u001b[43m_extra_args\u001b[49m\u001b[43m,\u001b[49m\n\u001b[0;32m   1032\u001b[0m \u001b[43m      \u001b[49m\u001b[43mclasspath\u001b[49m\u001b[38;5;241;43m=\u001b[39;49m\u001b[43mclasspath_urls\u001b[49m\u001b[43m)\u001b[49m\n\u001b[0;32m   1033\u001b[0m   \u001b[38;5;28mself\u001b[39m\u001b[38;5;241m.\u001b[39m_service \u001b[38;5;241m=\u001b[39m \u001b[38;5;28mself\u001b[39m\u001b[38;5;241m.\u001b[39m_service_provider\u001b[38;5;241m.\u001b[39m\u001b[38;5;21m__enter__\u001b[39m()\n\u001b[0;32m   1034\u001b[0m \u001b[38;5;28mself\u001b[39m\u001b[38;5;241m.\u001b[39m_service_count \u001b[38;5;241m+\u001b[39m\u001b[38;5;241m=\u001b[39m \u001b[38;5;241m1\u001b[39m\n",
      "File \u001b[1;32m~\\AppData\\Roaming\\Python\\Python312\\site-packages\\apache_beam\\utils\\subprocess_server.py:273\u001b[0m, in \u001b[0;36mJavaJarServer.__init__\u001b[1;34m(self, stub_class, path_to_jar, java_arguments, classpath)\u001b[0m\n\u001b[0;32m    269\u001b[0m \u001b[38;5;28;01mdef\u001b[39;00m \u001b[38;5;21m__init__\u001b[39m(\u001b[38;5;28mself\u001b[39m, stub_class, path_to_jar, java_arguments, classpath\u001b[38;5;241m=\u001b[39m\u001b[38;5;28;01mNone\u001b[39;00m):\n\u001b[0;32m    270\u001b[0m   \u001b[38;5;28;01mif\u001b[39;00m classpath:\n\u001b[0;32m    271\u001b[0m     \u001b[38;5;66;03m# java -jar ignores the classpath, so we make a new jar that embeds\u001b[39;00m\n\u001b[0;32m    272\u001b[0m     \u001b[38;5;66;03m# the requested classpath.\u001b[39;00m\n\u001b[1;32m--> 273\u001b[0m     path_to_jar \u001b[38;5;241m=\u001b[39m \u001b[38;5;28;43mself\u001b[39;49m\u001b[38;5;241;43m.\u001b[39;49m\u001b[43mmake_classpath_jar\u001b[49m\u001b[43m(\u001b[49m\u001b[43mpath_to_jar\u001b[49m\u001b[43m,\u001b[49m\u001b[43m \u001b[49m\u001b[43mclasspath\u001b[49m\u001b[43m)\u001b[49m\n\u001b[0;32m    274\u001b[0m   \u001b[38;5;28msuper\u001b[39m()\u001b[38;5;241m.\u001b[39m\u001b[38;5;21m__init__\u001b[39m(\n\u001b[0;32m    275\u001b[0m       stub_class, [\u001b[38;5;124m'\u001b[39m\u001b[38;5;124mjava\u001b[39m\u001b[38;5;124m'\u001b[39m, \u001b[38;5;124m'\u001b[39m\u001b[38;5;124m-jar\u001b[39m\u001b[38;5;124m'\u001b[39m, path_to_jar] \u001b[38;5;241m+\u001b[39m \u001b[38;5;28mlist\u001b[39m(java_arguments))\n\u001b[0;32m    276\u001b[0m   \u001b[38;5;28mself\u001b[39m\u001b[38;5;241m.\u001b[39m_existing_service \u001b[38;5;241m=\u001b[39m path_to_jar \u001b[38;5;28;01mif\u001b[39;00m is_service_endpoint(\n\u001b[0;32m    277\u001b[0m       path_to_jar) \u001b[38;5;28;01melse\u001b[39;00m \u001b[38;5;28;01mNone\u001b[39;00m\n",
      "File \u001b[1;32m~\\AppData\\Roaming\\Python\\Python312\\site-packages\\apache_beam\\utils\\subprocess_server.py:419\u001b[0m, in \u001b[0;36mJavaJarServer.make_classpath_jar\u001b[1;34m(cls, main_jar, extra_jars, cache_dir)\u001b[0m\n\u001b[0;32m    417\u001b[0m     classpath\u001b[38;5;241m.\u001b[39mappend(rel_path)\n\u001b[0;32m    418\u001b[0m     \u001b[38;5;28;01mif\u001b[39;00m \u001b[38;5;129;01mnot\u001b[39;00m os\u001b[38;5;241m.\u001b[39mpath\u001b[38;5;241m.\u001b[39mlexists(os\u001b[38;5;241m.\u001b[39mpath\u001b[38;5;241m.\u001b[39mjoin(composite_jar_dir, rel_path)):\n\u001b[1;32m--> 419\u001b[0m       \u001b[43mos\u001b[49m\u001b[38;5;241;43m.\u001b[39;49m\u001b[43msymlink\u001b[49m\u001b[43m(\u001b[49m\u001b[43mpath\u001b[49m\u001b[43m,\u001b[49m\u001b[43m \u001b[49m\u001b[43mos\u001b[49m\u001b[38;5;241;43m.\u001b[39;49m\u001b[43mpath\u001b[49m\u001b[38;5;241;43m.\u001b[39;49m\u001b[43mjoin\u001b[49m\u001b[43m(\u001b[49m\u001b[43mcomposite_jar_dir\u001b[49m\u001b[43m,\u001b[49m\u001b[43m \u001b[49m\u001b[43mrel_path\u001b[49m\u001b[43m)\u001b[49m\u001b[43m)\u001b[49m\n\u001b[0;32m    420\u001b[0m \u001b[38;5;66;03m# Now create a single jar that simply references the rest and has the same\u001b[39;00m\n\u001b[0;32m    421\u001b[0m \u001b[38;5;66;03m# main class as main_jar.\u001b[39;00m\n\u001b[0;32m    422\u001b[0m composite_jar \u001b[38;5;241m=\u001b[39m os\u001b[38;5;241m.\u001b[39mpath\u001b[38;5;241m.\u001b[39mjoin(\n\u001b[0;32m    423\u001b[0m     composite_jar_dir,\n\u001b[0;32m    424\u001b[0m     hashlib\u001b[38;5;241m.\u001b[39msha256(\u001b[38;5;124m'\u001b[39m\u001b[38;5;124m \u001b[39m\u001b[38;5;124m'\u001b[39m\u001b[38;5;241m.\u001b[39mjoin(\u001b[38;5;28msorted\u001b[39m(classpath))\u001b[38;5;241m.\u001b[39mencode(\u001b[38;5;124m'\u001b[39m\u001b[38;5;124mascii\u001b[39m\u001b[38;5;124m'\u001b[39m))\u001b[38;5;241m.\u001b[39mhexdigest()\n\u001b[0;32m    425\u001b[0m     \u001b[38;5;241m+\u001b[39m \u001b[38;5;124m'\u001b[39m\u001b[38;5;124m.jar\u001b[39m\u001b[38;5;124m'\u001b[39m)\n",
      "\u001b[1;31mOSError\u001b[0m: [WinError 1314] El cliente no dispone de un privilegio requerido: 'C:\\\\Users\\\\Arturo Clemente\\\\.apache_beam\\\\cache\\\\jars\\\\beam-sdks-java-extensions-schemaio-expansion-service-2.60.0.jar' -> 'C:\\\\Users\\\\Arturo Clemente/.apache_beam/cache/jars\\\\composite-jars\\\\a4b8fdd372a63c1dcf67153e98bfdd26737fb44a3f753af564413705e58a3fc9.jar'"
     ]
    }
   ],
   "source": [
    "#Esto sólo correrá si es llamada la función desde shell\n",
    "import apache_beam as beam\n",
    "from apache_beam.io.jdbc import ReadFromJdbc, WriteToJdbc\n",
    "#from apache_beam import typehints, coders, Row\n",
    "from apache_beam.options.pipeline_options import PipelineOptions\n",
    "import typing\n",
    "\n",
    "query_top10 = \"SELECT TOP(10) NumeroTienda FROM tiendas\"\n",
    "\n",
    "p2 = beam.Pipeline()\n",
    "test_sqlserver = (\n",
    "    p2\n",
    "    | 'Leer desde JDBC' >> ReadFromJdbc(\n",
    "                table_name='products',\n",
    "                driver_class_name='com.microsoft.sqlserver.jdbc.SQLServerDriver',\n",
    "                jdbc_url='jdbc:sqlserver://localhost:1433;databaseName=ControlTiendas;encrypt=false',\n",
    "                username='sqlserver',\n",
    "                password='P4$$w0rd',\n",
    "                # Puedes agregar otras opciones si es necesario, como el esquema\n",
    "                query=query_top10\n",
    "            )\n",
    "    | 'Map para ver' >> beam.Map(lambda e: e)\n",
    "    | 'Ver en txt' >> beam.io.WriteToText('SQLtotext.txt')\n",
    ")\n",
    "p1.run()"
   ]
  },
  {
   "cell_type": "code",
   "execution_count": 11,
   "id": "47456899",
   "metadata": {},
   "outputs": [
    {
     "name": "stdout",
     "output_type": "stream",
     "text": [
      "You\twant\tto\tupload\tfiles\tfrom\tan\ton-premises\tvirtual\tmachine\tto\tGoogle\tCloud\tStorage\tas\tpart\tof\ta\tdata\tmigration.\n",
      "These\tfiles\twill\tbe\tconsumed\tby\tCloud\n",
      "DataProc\tHadoop\tcluster\tin\ta\tGCP\tenvironment.\n",
      "Which\tcommand\tshould\tyou\tuse?\n",
      "A.\n",
      "gsutil\tcp\t[LOCAL_OBJECT]\tgs://[DESTINATION_BUCKET_NAME]/\n",
      "B.\n",
      "gcloud\tcp\t[LOCAL_OBJECT]\tgs://[DESTINATION_BUCKET_NAME]/\n",
      "C.\n",
      "hadoop\tfs\tcp\t[LOCAL_OBJECT]\tgs://[DESTINATION_BUCKET_NAME]/\n",
      "D.\n",
      "gcloud\tdataproc\tcp\t[LOCAL_OBJECT]\tgs://[DESTINATION_BUCKET_NAME]/\n",
      "Answer:\t\n",
      "A\n",
      "Explanation:\n",
      "The\tgsutil\tcp\tcommand\tallows\tyou\tto\tcopy\tdata\tbetween\tyour\tlocal\tfile.\tstorage.\tboto\tfiles\tgenerated\tby\n",
      "running\t\"gsutil\tconfig\"\n",
      "You\tmigrated\tyour\tapplications\tto\tGoogle\tCloud\tPlatform\tand\tkept\tyour\texisting\tmonitoring\tplatform.\tYou\tnow\tfind\n",
      "that\tyour\tnotification\tsystem\tis\ttoo\tslow\tfor\ttime\tcritical\tproblems.\n",
      "What\tshould\tyou\tdo?\n",
      "A.\n",
      "Replace\tyour\tentire\tmonitoring\tplatform\twith\tStackdriver.\n",
      "B.\n",
      "Install\tthe\tStackdriver\tagents\ton\tyour\tCompute\tEngine\tinstances.\n",
      "C.\n",
      "Use\tStackdriver\tto\tcapture\tand\talert\ton\tlogs,\tthen\tship\tthem\tto\tyour\texisting\tplatform.\n",
      "D.\n",
      "Migrate\tsome\ttraffic\tback\tto\tyour\told\tplatform\tand\tperform\tAB\ttesting\ton\tthe\ttwo\tplatforms\tconcurrently.\n",
      "Answer:\t\n",
      "C\n",
      "Explanation:\n",
      "Cyou\thave\tproblems\twith\tnotifications.C\toption\tallows\tyou\tto\tuse\tstackdriver\tto\tsend\talerts\timmediately\tand\n",
      "straight\taway\tafter\tsends\tall\tthis\tdata\tto\tyour\ton-prem\tmonitoring\tplatform\n",
      "Think\ttwice.\tYou\thave\tworking\tan\texpensive\tmonitoring\tsystem\ti.e\tSplunk\tand\tyou\thave\tthe\tproblem\twith\n",
      "unacceptable\tdelay\ttime\tbetween\tincident\tand\tnotification.\tYou\tneed\tto\tfix\tthis\tproblem,\tnot\tdoing\ta\n",
      "revolution\t(changing\tmonitoring\tsystem).\tYou\tcan\tleverage\tGCP\tMonitoring\twith\talerting\tsystem\twhich\tis\tout-\n",
      "of-the-box\twith\tno\thuge\teffort,\tbecause\tif\tyou\twant\tor\tnot\tlogs\tare\tin\tcloud\tlogging.\tSimply\timplement\talerts\n",
      "and\tpush\tlogs\tto\tSplunk.\tSimples.\n",
      "You\tare\tplanning\tto\tmigrate\ta\tMySQL\tdatabase\tto\tthe\tmanaged\tCloud\tSQL\tdatabase\tfor\tGoogle\tCloud.\tYou\thave\n",
      "Compute\tEngine\tvirtual\tmachine\tinstances\tthat\twill\tconnect\twith\tthis\tCloud\tSQL\tinstance.\tYou\tdo\tnot\twant\tto\n",
      "whitelist\tIPs\tfor\tthe\tCompute\tEngine\tinstances\tto\tbe\table\tto\taccess\tCloud\tSQL.\n",
      "What\tshould\tyou\tdo?\n",
      "A.\n",
      "Enable\tprivate\tIP\tfor\tthe\tCloud\tSQL\tinstance.\n",
      "B.\n",
      "Whitelist\ta\tproject\tto\taccess\tCloud\tSQL,\tand\tadd\tCompute\tEngine\tinstances\tin\tthe\twhitelisted\tproject.\n",
      "C.\n",
      "Create\ta\trole\tin\tCloud\tSQL\tthat\tallows\taccess\tto\tthe\tdatabase\tfrom\texternal\tinstances,\tand\tassign\tthe\n",
      "Compute\tEngine\tinstances\tto\tthat\trole.\n",
      "Question:\t1\n",
      "Certy\n",
      "IQ\n",
      "Question:\t2\n",
      "Certy\n",
      "IQ\n",
      "Question:\t3\n",
      "Certy\n",
      "IQ\n",
      "[]\n",
      "['Question:\\t1 Certy IQ']\n",
      "['Question:\\t1 Certy IQ']\n",
      "Pregunta 1: Question:\t1 Certy IQ\n",
      "<class 'str'>\n",
      "['Question:\\t1 Certy IQ']\n"
     ]
    }
   ],
   "source": [
    "from PyPDF2 import PdfReader\n",
    "\n",
    "# Ruta al archivo PDF\n",
    "pdf_path = \"professional-cloud-developer.pdf\"\n",
    "\n",
    "# Cargar el archivo PDF\n",
    "pdf_reader = PdfReader(pdf_path)\n",
    "\n",
    "# Variables para almacenar el contenido de las preguntas\n",
    "questions = []\n",
    "extracting_question = False\n",
    "current_question = []\n",
    "question_count = 0\n",
    "max_questions = 1  # Número máximo de preguntas a extraer\n",
    "\n",
    "pagina=pdf_reader.pages[3]\n",
    "texto=pagina.extract_text()\n",
    "print(texto)\n",
    "\n",
    "# Recorrer cada página y extraer el contenido de las preguntas\n",
    "for page in pdf_reader.pages:\n",
    "    if question_count >= max_questions:\n",
    "        break\n",
    "\n",
    "    text = page.extract_text()\n",
    "\n",
    "    # Verificar si la página tiene texto\n",
    "    if text is None:\n",
    "        continue\n",
    "\n",
    "    # Separar el texto en líneas y buscar preguntas\n",
    "    for line in text.splitlines():\n",
    "        if question_count >= max_questions:\n",
    "            break\n",
    "\n",
    "        line = line.strip()  # Eliminar espacios en blanco al inicio y al final\n",
    "\n",
    "        # Comenzar a extraer una nueva pregunta\n",
    "        if \"Question:\" in line:\n",
    "            if current_question:\n",
    "                questions.append(\" \".join(current_question))\n",
    "                print(questions)\n",
    "                current_question = []\n",
    "                question_count += 1\n",
    "\n",
    "            extracting_question = True\n",
    "            current_question.append(line)\n",
    "            print(questions)\n",
    "\n",
    "        # Finalizar la extracción si encontramos una respuesta u otra sección\n",
    "        elif \"Answer:\" in line:\n",
    "            extracting_question = False\n",
    "            if current_question:\n",
    "                questions.append(\" \".join(current_question))\n",
    "                current_question = []\n",
    "                question_count += 1\n",
    "\n",
    "        # Continuar extrayendo si estamos en medio de una pregunta\n",
    "        elif extracting_question:\n",
    "            current_question.append(line)\n",
    "\n",
    "# Añadir la última pregunta si existe y no se ha alcanzado el máximo\n",
    "if current_question and question_count < max_questions:\n",
    "    questions.append(\" \".join(current_question))\n",
    "\n",
    "# Mostrar las preguntas extraídas\n",
    "for i, question in enumerate(questions, 1):\n",
    "     print(f\"Pregunta {i}: {question}\")\n",
    "\n",
    "\n",
    "print(type(text))\n",
    "print(questions)"
   ]
  }
 ],
 "metadata": {
  "kernelspec": {
   "display_name": "Python 3",
   "language": "python",
   "name": "python3"
  },
  "language_info": {
   "codemirror_mode": {
    "name": "ipython",
    "version": 3
   },
   "file_extension": ".py",
   "mimetype": "text/x-python",
   "name": "python",
   "nbconvert_exporter": "python",
   "pygments_lexer": "ipython3",
   "version": "3.12.6"
  }
 },
 "nbformat": 4,
 "nbformat_minor": 5
}
